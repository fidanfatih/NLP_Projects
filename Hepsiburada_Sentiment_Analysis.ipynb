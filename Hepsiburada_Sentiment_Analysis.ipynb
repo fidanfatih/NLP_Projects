{
  "cells": [
    {
      "cell_type": "markdown",
      "metadata": {
        "id": "view-in-github",
        "colab_type": "text"
      },
      "source": [
        "<a href=\"https://colab.research.google.com/github/fidanfatih/NLP_Projects/blob/main/Hepsiburada_Sentiment_Analysis.ipynb\" target=\"_parent\"><img src=\"https://colab.research.google.com/assets/colab-badge.svg\" alt=\"Open In Colab\"/></a>"
      ]
    },
    {
      "cell_type": "markdown",
      "metadata": {
        "id": "sla5pACDS0-W"
      },
      "source": [
        "# NLP with Deep Learning (GRU)"
      ]
    },
    {
      "cell_type": "code",
      "source": [
        "from google.colab import drive\n",
        "drive.mount('/content/drive')"
      ],
      "metadata": {
        "colab": {
          "base_uri": "https://localhost:8080/",
          "height": 0
        },
        "id": "iFIAF0gFTbeo",
        "outputId": "dfc4d1fc-0e47-4500-a63d-51a296955104"
      },
      "execution_count": 1,
      "outputs": [
        {
          "output_type": "stream",
          "name": "stdout",
          "text": [
            "Drive already mounted at /content/drive; to attempt to forcibly remount, call drive.mount(\"/content/drive\", force_remount=True).\n"
          ]
        }
      ]
    },
    {
      "cell_type": "markdown",
      "metadata": {
        "id": "JxNLJXb9S0-b"
      },
      "source": [
        "## Import libraries"
      ]
    },
    {
      "cell_type": "code",
      "execution_count": 2,
      "metadata": {
        "id": "Weg9HE5uS0-c"
      },
      "outputs": [],
      "source": [
        "import numpy as np\n",
        "import pandas as pd\n",
        "import seaborn as sns\n",
        "import matplotlib.pyplot as plt\n",
        "from tensorflow.keras.models import Sequential\n",
        "from tensorflow.keras.layers import Dense, GRU, Embedding\n",
        "from tensorflow.keras.optimizers import Adam\n",
        "from tensorflow.keras.preprocessing.text import Tokenizer\n",
        "from tensorflow.keras.preprocessing.sequence import pad_sequences"
      ]
    },
    {
      "cell_type": "code",
      "execution_count": 3,
      "metadata": {
        "colab": {
          "base_uri": "https://localhost:8080/",
          "height": 424
        },
        "id": "vH49r37XS0-f",
        "outputId": "cc5f6ed0-81f2-4109-b2bf-238b018b4b36"
      },
      "outputs": [
        {
          "output_type": "execute_result",
          "data": {
            "text/html": [
              "\n",
              "  <div id=\"df-6d3a0cc9-38a0-45cc-8c18-e5ddb68c5e4e\">\n",
              "    <div class=\"colab-df-container\">\n",
              "      <div>\n",
              "<style scoped>\n",
              "    .dataframe tbody tr th:only-of-type {\n",
              "        vertical-align: middle;\n",
              "    }\n",
              "\n",
              "    .dataframe tbody tr th {\n",
              "        vertical-align: top;\n",
              "    }\n",
              "\n",
              "    .dataframe thead th {\n",
              "        text-align: right;\n",
              "    }\n",
              "</style>\n",
              "<table border=\"1\" class=\"dataframe\">\n",
              "  <thead>\n",
              "    <tr style=\"text-align: right;\">\n",
              "      <th></th>\n",
              "      <th>Rating</th>\n",
              "      <th>Review</th>\n",
              "    </tr>\n",
              "  </thead>\n",
              "  <tbody>\n",
              "    <tr>\n",
              "      <th>0</th>\n",
              "      <td>1</td>\n",
              "      <td>3 yıldır tık demedi. :)</td>\n",
              "    </tr>\n",
              "    <tr>\n",
              "      <th>1</th>\n",
              "      <td>1</td>\n",
              "      <td>3 yıldır kullanıyorum müthiş</td>\n",
              "    </tr>\n",
              "    <tr>\n",
              "      <th>2</th>\n",
              "      <td>1</td>\n",
              "      <td>Ürün bugün elime geçti çok fazla inceleme fırs...</td>\n",
              "    </tr>\n",
              "    <tr>\n",
              "      <th>3</th>\n",
              "      <td>1</td>\n",
              "      <td>Almaya karar verdim. Hemencecik geldi. Keyifle...</td>\n",
              "    </tr>\n",
              "    <tr>\n",
              "      <th>4</th>\n",
              "      <td>1</td>\n",
              "      <td>Günlük kullanımınızı çok çok iyi karsılıyor kı...</td>\n",
              "    </tr>\n",
              "    <tr>\n",
              "      <th>...</th>\n",
              "      <td>...</td>\n",
              "      <td>...</td>\n",
              "    </tr>\n",
              "    <tr>\n",
              "      <th>243492</th>\n",
              "      <td>1</td>\n",
              "      <td>fiyatına göre güzel</td>\n",
              "    </tr>\n",
              "    <tr>\n",
              "      <th>243493</th>\n",
              "      <td>1</td>\n",
              "      <td>Ürün kullanışlı iş görüyor fazlasıyla eşime al...</td>\n",
              "    </tr>\n",
              "    <tr>\n",
              "      <th>243494</th>\n",
              "      <td>1</td>\n",
              "      <td>Hızlı Kargo, güzel ürün</td>\n",
              "    </tr>\n",
              "    <tr>\n",
              "      <th>243495</th>\n",
              "      <td>1</td>\n",
              "      <td>telefon başarılı hızlı bir cihaz  sadece beyaz...</td>\n",
              "    </tr>\n",
              "    <tr>\n",
              "      <th>243496</th>\n",
              "      <td>1</td>\n",
              "      <td>Urun cok guzel pazar gunu siparis verdim adana...</td>\n",
              "    </tr>\n",
              "  </tbody>\n",
              "</table>\n",
              "<p>243497 rows × 2 columns</p>\n",
              "</div>\n",
              "      <button class=\"colab-df-convert\" onclick=\"convertToInteractive('df-6d3a0cc9-38a0-45cc-8c18-e5ddb68c5e4e')\"\n",
              "              title=\"Convert this dataframe to an interactive table.\"\n",
              "              style=\"display:none;\">\n",
              "        \n",
              "  <svg xmlns=\"http://www.w3.org/2000/svg\" height=\"24px\"viewBox=\"0 0 24 24\"\n",
              "       width=\"24px\">\n",
              "    <path d=\"M0 0h24v24H0V0z\" fill=\"none\"/>\n",
              "    <path d=\"M18.56 5.44l.94 2.06.94-2.06 2.06-.94-2.06-.94-.94-2.06-.94 2.06-2.06.94zm-11 1L8.5 8.5l.94-2.06 2.06-.94-2.06-.94L8.5 2.5l-.94 2.06-2.06.94zm10 10l.94 2.06.94-2.06 2.06-.94-2.06-.94-.94-2.06-.94 2.06-2.06.94z\"/><path d=\"M17.41 7.96l-1.37-1.37c-.4-.4-.92-.59-1.43-.59-.52 0-1.04.2-1.43.59L10.3 9.45l-7.72 7.72c-.78.78-.78 2.05 0 2.83L4 21.41c.39.39.9.59 1.41.59.51 0 1.02-.2 1.41-.59l7.78-7.78 2.81-2.81c.8-.78.8-2.07 0-2.86zM5.41 20L4 18.59l7.72-7.72 1.47 1.35L5.41 20z\"/>\n",
              "  </svg>\n",
              "      </button>\n",
              "      \n",
              "  <style>\n",
              "    .colab-df-container {\n",
              "      display:flex;\n",
              "      flex-wrap:wrap;\n",
              "      gap: 12px;\n",
              "    }\n",
              "\n",
              "    .colab-df-convert {\n",
              "      background-color: #E8F0FE;\n",
              "      border: none;\n",
              "      border-radius: 50%;\n",
              "      cursor: pointer;\n",
              "      display: none;\n",
              "      fill: #1967D2;\n",
              "      height: 32px;\n",
              "      padding: 0 0 0 0;\n",
              "      width: 32px;\n",
              "    }\n",
              "\n",
              "    .colab-df-convert:hover {\n",
              "      background-color: #E2EBFA;\n",
              "      box-shadow: 0px 1px 2px rgba(60, 64, 67, 0.3), 0px 1px 3px 1px rgba(60, 64, 67, 0.15);\n",
              "      fill: #174EA6;\n",
              "    }\n",
              "\n",
              "    [theme=dark] .colab-df-convert {\n",
              "      background-color: #3B4455;\n",
              "      fill: #D2E3FC;\n",
              "    }\n",
              "\n",
              "    [theme=dark] .colab-df-convert:hover {\n",
              "      background-color: #434B5C;\n",
              "      box-shadow: 0px 1px 3px 1px rgba(0, 0, 0, 0.15);\n",
              "      filter: drop-shadow(0px 1px 2px rgba(0, 0, 0, 0.3));\n",
              "      fill: #FFFFFF;\n",
              "    }\n",
              "  </style>\n",
              "\n",
              "      <script>\n",
              "        const buttonEl =\n",
              "          document.querySelector('#df-6d3a0cc9-38a0-45cc-8c18-e5ddb68c5e4e button.colab-df-convert');\n",
              "        buttonEl.style.display =\n",
              "          google.colab.kernel.accessAllowed ? 'block' : 'none';\n",
              "\n",
              "        async function convertToInteractive(key) {\n",
              "          const element = document.querySelector('#df-6d3a0cc9-38a0-45cc-8c18-e5ddb68c5e4e');\n",
              "          const dataTable =\n",
              "            await google.colab.kernel.invokeFunction('convertToInteractive',\n",
              "                                                     [key], {});\n",
              "          if (!dataTable) return;\n",
              "\n",
              "          const docLinkHtml = 'Like what you see? Visit the ' +\n",
              "            '<a target=\"_blank\" href=https://colab.research.google.com/notebooks/data_table.ipynb>data table notebook</a>'\n",
              "            + ' to learn more about interactive tables.';\n",
              "          element.innerHTML = '';\n",
              "          dataTable['output_type'] = 'display_data';\n",
              "          await google.colab.output.renderOutput(dataTable, element);\n",
              "          const docLink = document.createElement('div');\n",
              "          docLink.innerHTML = docLinkHtml;\n",
              "          element.appendChild(docLink);\n",
              "        }\n",
              "      </script>\n",
              "    </div>\n",
              "  </div>\n",
              "  "
            ],
            "text/plain": [
              "        Rating                                             Review\n",
              "0            1                            3 yıldır tık demedi. :)\n",
              "1            1                      3 yıldır kullanıyorum müthiş \n",
              "2            1  Ürün bugün elime geçti çok fazla inceleme fırs...\n",
              "3            1  Almaya karar verdim. Hemencecik geldi. Keyifle...\n",
              "4            1  Günlük kullanımınızı çok çok iyi karsılıyor kı...\n",
              "...        ...                                                ...\n",
              "243492       1                                fiyatına göre güzel\n",
              "243493       1  Ürün kullanışlı iş görüyor fazlasıyla eşime al...\n",
              "243494       1                            Hızlı Kargo, güzel ürün\n",
              "243495       1  telefon başarılı hızlı bir cihaz  sadece beyaz...\n",
              "243496       1  Urun cok guzel pazar gunu siparis verdim adana...\n",
              "\n",
              "[243497 rows x 2 columns]"
            ]
          },
          "metadata": {},
          "execution_count": 3
        }
      ],
      "source": [
        "df = pd.read_csv('/content/drive/MyDrive/Colab Notebooks/NLP/hepsiburada.zip')\n",
        "df"
      ]
    },
    {
      "cell_type": "code",
      "source": [
        "df.Rating.value_counts().plot.bar();"
      ],
      "metadata": {
        "colab": {
          "base_uri": "https://localhost:8080/",
          "height": 262
        },
        "id": "dQ9V0UOHWd4K",
        "outputId": "0186f164-c3ab-43e7-9e01-2d468d4fed89"
      },
      "execution_count": 4,
      "outputs": [
        {
          "output_type": "display_data",
          "data": {
            "image/png": "[encoded data removed]",
            "text/plain": [
              "<Figure size 432x288 with 1 Axes>"
            ]
          },
          "metadata": {
            "needs_background": "light"
          }
        }
      ]
    },
    {
      "cell_type": "markdown",
      "metadata": {
        "id": "hUnDU3A5S0-k"
      },
      "source": [
        "## Tokenization"
      ]
    },
    {
      "cell_type": "code",
      "execution_count": 5,
      "metadata": {
        "id": "VdR4V5bsS0-l"
      },
      "outputs": [],
      "source": [
        "X = df['Review'].values\n",
        "y = df['Rating'].values"
      ]
    },
    {
      "cell_type": "code",
      "execution_count": 6,
      "metadata": {
        "id": "7fI4-4NnS0-m"
      },
      "outputs": [],
      "source": [
        "num_words = 15000 \n",
        "tokenizer = Tokenizer(num_words=num_words) #filters='!\"#$%&()*+,-./:;<=>?@[\\\\]^_`{|}~\\t\\n1234567890'\n",
        "tokenizer.fit_on_texts(X)"
      ]
    },
    {
      "cell_type": "markdown",
      "source": [
        "\n",
        "* Word embeddingte 10bin-15bin veya 20bin kelime kullanilir, daha fazla kelime kullanmak maliyeti artirir vemodel basarisina onemli bir katki sunmaz.\n",
        "* corpusta geçen en fazla kullanılan ilk 15.000 kelimeyi(tokeni) alacağız gerisini yok sayacağız. num_words=None atanırsa tüm kelimeler dikkate alınır.Tum corpusla egitirseniz bu sure maliyeti olusturur. \n",
        "* Tokenizer().fit_on_texts() fonksiyonu cleaning islemini yaparken default olarak yalniz punctuations temizligi yapar. Ancak istenirse Tokenizer(filter='.....') filters icine rakamlar da yazilarak digid degerler corpustan temizlenebilir.\n",
        "* Tokenizer().fit_on_texts() fonksiyonu cleaning islemini yapiyor ancak lemma yapmaz.Cunku Word Embeding te Lemmatization yapmiyoruz. Word Embeding, her kelime icin vektor olusturulur ve her kelimenin baska kelime ile kullanim iliskisi ve anlam bagini kurar. Mesela lemma yapip, yapim ekini atarsaniz kelime farkli bir anlama ve anlam bagina sahip olur.\n",
        "* Anlam Bagi ne demek? Mesela \"Eve geldim.\" \"Evden gittim.\" Burada word Embedding \"evden\"-\"gitmek\" ve \"eve\"-\"gelmek\" arasinda anlam baglantisi olusturur ve bunlari birbiriyle iliskilendirir.\n",
        "* CountVektorizer ve TF-IDF te kelimelerin birbirleriyle anlam baglami olmadigi icin lemma veya stem yapilir.\n",
        "* Word embedding te stopwords temizligi de yapilmiyor. Stopword ler yaklasik 200 adet. 15bin icinde 200 kelime cok onem arzetmez. Ote yandan Deep Learning kelimeleri agirliklandiracagi icin model bu kelimeleri onemsizlestirecektir. Dolayisiyla stopword leri drop etmenin herhangi bir katkisi olmayacaktir.\n",
        "\n"
      ],
      "metadata": {
        "id": "6MMFA0Zg2rcH"
      }
    },
    {
      "cell_type": "markdown",
      "metadata": {
        "id": "RAAuYXNrS0-p"
      },
      "source": [
        "## Creating word index"
      ]
    },
    {
      "cell_type": "markdown",
      "source": [
        "* word_index: en fazla kullanilan kelimeleri kullanim sıklığına gore buyukten kucuge siralar. Kelimenin onundeki sayi, kelimenin kullanim sıklığı degil, kullanim sıklığına gore hiyerarsi siralamasinin ifade eder. yani 1 ise en cok kullanilan kelime demektir. Burada sıfır kullanmaz, onu dolgulamada kullanacak.\n",
        "* word_index degerleri ne icin kullanilir? modelin dikkate alacagi 15bin kelime yerine 1den 15000'e kadar sayi atanir. Training sirasinda her cumledeki kelime yerine o kelimenin word index i konulur, word index i 15000 den buyuk olan kelimeler ise yok sayilir."
      ],
      "metadata": {
        "id": "InSzLjAr8DKb"
      }
    },
    {
      "cell_type": "code",
      "execution_count": 7,
      "metadata": {
        "colab": {
          "base_uri": "https://localhost:8080/",
          "height": 0
        },
        "id": "n3k-Y8paS0-q",
        "outputId": "16aa4eda-3709-4b77-82c6-8c5a1da21e3d"
      },
      "outputs": [
        {
          "output_type": "execute_result",
          "data": {
            "text/plain": [
              "{'çok': 1,\n",
              " 'bir': 2,\n",
              " 've': 3,\n",
              " 'ürün': 4,\n",
              " 'bu': 5,\n",
              " 'iyi': 6,\n",
              " 'güzel': 7,\n",
              " 'için': 8,\n",
              " 'tavsiye': 9,\n",
              " 'ederim': 10,\n",
              " 'daha': 11,\n",
              " 'ama': 12,\n",
              " 'da': 13,\n",
              " 'gayet': 14,\n",
              " 'hızlı': 15,\n",
              " 'teşekkürler': 16,\n",
              " 'aldım': 17,\n",
              " 'de': 18,\n",
              " 'ürünü': 19,\n",
              " 'gibi': 20,\n",
              " 'yok': 21,\n",
              " 'uygun': 22,\n",
              " 'olarak': 23,\n",
              " 'kaliteli': 24,\n",
              " 'en': 25,\n",
              " '2': 26,\n",
              " 'kargo': 27,\n",
              " 'fiyat': 28,\n",
              " 'elime': 29,\n",
              " 'kadar': 30,\n",
              " 'ile': 31,\n",
              " 'göre': 32,\n",
              " 'geldi': 33,\n",
              " 'var': 34,\n",
              " 'hepsiburada': 35,\n",
              " 'ben': 36,\n",
              " 'gerçekten': 37,\n",
              " '1': 38,\n",
              " 'fiyata': 39,\n",
              " 'gün': 40,\n",
              " 'sonra': 41,\n",
              " 'cok': 42,\n",
              " 'kesinlikle': 43,\n",
              " 'telefon': 44,\n",
              " 'biraz': 45,\n",
              " 'hiç': 46,\n",
              " 'ulaştı': 47,\n",
              " 'memnun': 48,\n",
              " 'hem': 49,\n",
              " 'değil': 50,\n",
              " 'kullanışlı': 51,\n",
              " '3': 52,\n",
              " 'mükemmel': 53,\n",
              " 'oldu': 54,\n",
              " 'kullanıyorum': 55,\n",
              " 'önce': 56,\n",
              " 'sipariş': 57,\n",
              " 'tek': 58,\n",
              " 'her': 59,\n",
              " 'bence': 60,\n",
              " 'harika': 61,\n",
              " 'kalitesi': 62,\n",
              " 'bi': 63,\n",
              " 'ayrıca': 64,\n",
              " '5': 65,\n",
              " 'teşekkür': 66,\n",
              " 'fiyatı': 67,\n",
              " 'olması': 68,\n",
              " 'ne': 69,\n",
              " 'herkese': 70,\n",
              " 'bile': 71,\n",
              " 'uzun': 72,\n",
              " 'süper': 73,\n",
              " 'tam': 74,\n",
              " 'zaten': 75,\n",
              " 'fazla': 76,\n",
              " 'ilk': 77,\n",
              " 'o': 78,\n",
              " 'başarılı': 79,\n",
              " 'fakat': 80,\n",
              " 'memnunum': 81,\n",
              " 'ancak': 82,\n",
              " 'ediyorum': 83,\n",
              " 'şarj': 84,\n",
              " 'saat': 85,\n",
              " 'fiyatına': 86,\n",
              " 'oldukça': 87,\n",
              " 'hemen': 88,\n",
              " 'şekilde': 89,\n",
              " 'ses': 90,\n",
              " 'hepsi': 91,\n",
              " 'gerek': 92,\n",
              " 'rahat': 93,\n",
              " 'aynı': 94,\n",
              " '4': 95,\n",
              " 'şık': 96,\n",
              " 'verdim': 97,\n",
              " 'kolay': 98,\n",
              " 'diye': 99,\n",
              " 'ki': 100,\n",
              " 'sadece': 101,\n",
              " 'kaldım': 102,\n",
              " 'diğer': 103,\n",
              " 'büyük': 104,\n",
              " 'sorun': 105,\n",
              " 'alın': 106,\n",
              " 'burada': 107,\n",
              " 'kısa': 108,\n",
              " 'ürünün': 109,\n",
              " 'sorunsuz': 110,\n",
              " 'performans': 111,\n",
              " 'içinde': 112,\n",
              " 'olan': 113,\n",
              " 'günde': 114,\n",
              " 'olsun': 115,\n",
              " 'küçük': 116,\n",
              " 'urun': 117,\n",
              " '10': 118,\n",
              " 'benim': 119,\n",
              " 'başka': 120,\n",
              " 'iki': 121,\n",
              " 'olduğu': 122,\n",
              " 'teslimat': 123,\n",
              " 'com': 124,\n",
              " 'arkadaşlar': 125,\n",
              " 'sağlam': 126,\n",
              " 'oluyor': 127,\n",
              " 'teslim': 128,\n",
              " 'ettim': 129,\n",
              " 'zaman': 130,\n",
              " 'kalite': 131,\n",
              " 'almak': 132,\n",
              " 'az': 133,\n",
              " 'telefonu': 134,\n",
              " 'yeni': 135,\n",
              " 'cihaz': 136,\n",
              " 'marka': 137,\n",
              " 'son': 138,\n",
              " 'koku': 139,\n",
              " 'ise': 140,\n",
              " 'kullandım': 141,\n",
              " 'kokusu': 142,\n",
              " 'derim': 143,\n",
              " 'olduğunu': 144,\n",
              " 'özellikle': 145,\n",
              " 'beğendim': 146,\n",
              " 'sıkıntı': 147,\n",
              " 'ucuz': 148,\n",
              " 'rağmen': 149,\n",
              " 'geçti': 150,\n",
              " 'geliyor': 151,\n",
              " 'guzel': 152,\n",
              " 'bana': 153,\n",
              " 'ya': 154,\n",
              " 'ideal': 155,\n",
              " 'orjinal': 156,\n",
              " 'almıştım': 157,\n",
              " 'yeterli': 158,\n",
              " 'tane': 159,\n",
              " 'hediye': 160,\n",
              " 'sürede': 161,\n",
              " 'yani': 162,\n",
              " 'normal': 163,\n",
              " 'yaklaşık': 164,\n",
              " 'ediyor': 165,\n",
              " 'hafif': 166,\n",
              " 'bunu': 167,\n",
              " 'ekran': 168,\n",
              " 'aldığım': 169,\n",
              " 'veriyor': 170,\n",
              " '6': 171,\n",
              " 'yüksek': 172,\n",
              " 'tüm': 173,\n",
              " 'pişman': 174,\n",
              " 'tercih': 175,\n",
              " 'düşünmeden': 176,\n",
              " 'kötü': 177,\n",
              " 'düşünüyorum': 178,\n",
              " 'numara': 179,\n",
              " 'bi̇r': 180,\n",
              " 'süre': 181,\n",
              " 'kullanımı': 182,\n",
              " 'çıktı': 183,\n",
              " 'günü': 184,\n",
              " 'su': 185,\n",
              " 'adet': 186,\n",
              " 'şey': 187,\n",
              " 'hemde': 188,\n",
              " 'icin': 189,\n",
              " 'hizli': 190,\n",
              " 'çalışıyor': 191,\n",
              " 'ay': 192,\n",
              " 'hb': 193,\n",
              " 'hafta': 194,\n",
              " 'sesi': 195,\n",
              " 'alışveriş': 196,\n",
              " 'farklı': 197,\n",
              " 'kitap': 198,\n",
              " 'yine': 199,\n",
              " 'böyle': 200,\n",
              " 'zor': 201,\n",
              " 'alabilirsiniz': 202,\n",
              " 'hızı': 203,\n",
              " 'çünkü': 204,\n",
              " 'para': 205,\n",
              " 'ertesi': 206,\n",
              " 'bende': 207,\n",
              " 'kullanım': 208,\n",
              " 'sürekli': 209,\n",
              " 'duruyor': 210,\n",
              " 'aldim': 211,\n",
              " 'olur': 212,\n",
              " 'hoş': 213,\n",
              " 'artık': 214,\n",
              " 'yapıyor': 215,\n",
              " 'konusunda': 216,\n",
              " 'yorumlara': 217,\n",
              " 'gönderi': 218,\n",
              " 'olsa': 219,\n",
              " 'gücü': 220,\n",
              " 'şu': 221,\n",
              " 'vardı': 222,\n",
              " 'üründen': 223,\n",
              " 'malzeme': 224,\n",
              " 'biri': 225,\n",
              " 'pratik': 226,\n",
              " 'dışında': 227,\n",
              " 'defa': 228,\n",
              " 'kullandığım': 229,\n",
              " 'şimdi': 230,\n",
              " 'diş': 231,\n",
              " 'samsung': 232,\n",
              " 'onun': 233,\n",
              " 'bugün': 234,\n",
              " 'özelliği': 235,\n",
              " 'iş': 236,\n",
              " 'kurulumu': 237,\n",
              " 'tereddüt': 238,\n",
              " 'şarjı': 239,\n",
              " 'i̇lk': 240,\n",
              " '7': 241,\n",
              " 'ince': 242,\n",
              " 'gelen': 243,\n",
              " 'kullanmaya': 244,\n",
              " 'diyebilirim': 245,\n",
              " 'almayı': 246,\n",
              " 'pek': 247,\n",
              " 'aldık': 248,\n",
              " 'denedim': 249,\n",
              " '8': 250,\n",
              " 'tekrar': 251,\n",
              " 'çabuk': 252,\n",
              " 'karar': 253,\n",
              " 'kez': 254,\n",
              " 'sahip': 255,\n",
              " 'kendi': 256,\n",
              " 'basit': 257,\n",
              " 'dolayı': 258,\n",
              " 'derece': 259,\n",
              " 'veya': 260,\n",
              " 'kamera': 261,\n",
              " 'pil': 262,\n",
              " 'hiçbir': 263,\n",
              " 'öncelikle': 264,\n",
              " 'açısından': 265,\n",
              " 'iphone': 266,\n",
              " 'sonuç': 267,\n",
              " 'yanında': 268,\n",
              " 'sessiz': 269,\n",
              " 'pahalı': 270,\n",
              " 'işe': 271,\n",
              " 'gidiyor': 272,\n",
              " 'dan': 273,\n",
              " 'olmadı': 274,\n",
              " 'öyle': 275,\n",
              " 'tesekkurler': 276,\n",
              " 'bunun': 277,\n",
              " 'beni': 278,\n",
              " 'varsa': 279,\n",
              " 'yer': 280,\n",
              " 'gece': 281,\n",
              " 'zamanında': 282,\n",
              " 'yorum': 283,\n",
              " 'performansı': 284,\n",
              " 'parfüm': 285,\n",
              " 'evde': 286,\n",
              " 'belli': 287,\n",
              " 'eğer': 288,\n",
              " 'oyun': 289,\n",
              " 'ağır': 290,\n",
              " 'iyisi': 291,\n",
              " 'arada': 292,\n",
              " 'mutlaka': 293,\n",
              " 'zamanda': 294,\n",
              " 'usb': 295,\n",
              " 'ufak': 296,\n",
              " 'üzerinde': 297,\n",
              " 'hatta': 298,\n",
              " 'fark': 299,\n",
              " 'gönül': 300,\n",
              " 'paketleme': 301,\n",
              " 'eşim': 302,\n",
              " 'alacak': 303,\n",
              " '15': 304,\n",
              " 'gereken': 305,\n",
              " 'doğru': 306,\n",
              " 'eski': 307,\n",
              " 'herhangi': 308,\n",
              " 'aydır': 309,\n",
              " 'tl': 310,\n",
              " 'kalıcı': 311,\n",
              " 'rahatlıkla': 312,\n",
              " 'vs': 313,\n",
              " 'satın': 314,\n",
              " 'alınabilecek': 315,\n",
              " 'bundan': 316,\n",
              " 'farkı': 317,\n",
              " 'görüntü': 318,\n",
              " 'lazım': 319,\n",
              " 'gercekten': 320,\n",
              " 'şiddetle': 321,\n",
              " 'kullanmak': 322,\n",
              " 'kaçırmayın': 323,\n",
              " 'alırken': 324,\n",
              " 'kargoya': 325,\n",
              " 'yaşamadım': 326,\n",
              " 'mi': 327,\n",
              " 'yaptım': 328,\n",
              " 'prima': 329,\n",
              " 'birlikte': 330,\n",
              " 'gördüm': 331,\n",
              " 'gerekiyor': 332,\n",
              " 'telefonun': 333,\n",
              " 'ürünler': 334,\n",
              " 'ayrı': 335,\n",
              " 'önemli': 336,\n",
              " 'sayesinde': 337,\n",
              " 'bütün': 338,\n",
              " 'yıl': 339,\n",
              " 'gb': 340,\n",
              " 'alalı': 341,\n",
              " 'beklediğimden': 342,\n",
              " 'almaya': 343,\n",
              " 'yerde': 344,\n",
              " 'olmasına': 345,\n",
              " 'tv': 346,\n",
              " 'sabah': 347,\n",
              " 'devam': 348,\n",
              " 'kutu': 349,\n",
              " 'henüz': 350,\n",
              " 'falan': 351,\n",
              " 'sorunu': 352,\n",
              " 'tabi': 353,\n",
              " 'a': 354,\n",
              " '20': 355,\n",
              " 'bakarak': 356,\n",
              " 'sanırım': 357,\n",
              " 'hepsiburadaya': 358,\n",
              " 'kulaklık': 359,\n",
              " 'süresi': 360,\n",
              " 'hala': 361,\n",
              " 'muhteşem': 362,\n",
              " 'dikkat': 363,\n",
              " 'güvenilir': 364,\n",
              " 'rahatsız': 365,\n",
              " 'edilir': 366,\n",
              " 'çıkıyor': 367,\n",
              " 'alıp': 368,\n",
              " 'yüzden': 369,\n",
              " 'toz': 370,\n",
              " 'kere': 371,\n",
              " 'orijinal': 372,\n",
              " 'sağlıyor': 373,\n",
              " 'kamerası': 374,\n",
              " 'dün': 375,\n",
              " 'ürüne': 376,\n",
              " 'düşük': 377,\n",
              " 'spor': 378,\n",
              " 'i̇yi': 379,\n",
              " 'problem': 380,\n",
              " 'öneririm': 381,\n",
              " 'edildi': 382,\n",
              " 'plastik': 383,\n",
              " 'içerisinde': 384,\n",
              " 'makine': 385,\n",
              " 'beri': 386,\n",
              " 'fazlasıyla': 387,\n",
              " 'baya': 388,\n",
              " 'kullanımda': 389,\n",
              " '30': 390,\n",
              " 'tavsi̇ye': 391,\n",
              " 'an': 392,\n",
              " 'yalnız': 393,\n",
              " 'özellikleri': 394,\n",
              " 'on': 395,\n",
              " 'den': 396,\n",
              " 'satıcı': 397,\n",
              " 'ilgili': 398,\n",
              " 'genel': 399,\n",
              " 'oldum': 400,\n",
              " 'kaç': 401,\n",
              " 'etkili': 402,\n",
              " 'sıcak': 403,\n",
              " 'haftadır': 404,\n",
              " 'üstelik': 405,\n",
              " 'fiyatıda': 406,\n",
              " 'olmuş': 407,\n",
              " '24': 408,\n",
              " 'yada': 409,\n",
              " 'hep': 410,\n",
              " 'üst': 411,\n",
              " 'olabilir': 412,\n",
              " 'paket': 413,\n",
              " 'bazı': 414,\n",
              " 'almışım': 415,\n",
              " 'güçlü': 416,\n",
              " 'piyasada': 417,\n",
              " 'yerine': 418,\n",
              " 'arasında': 419,\n",
              " 'renk': 420,\n",
              " 'inanılmaz': 421,\n",
              " 'arkadaşlara': 422,\n",
              " 'paraya': 423,\n",
              " 'kurulum': 424,\n",
              " 'umarım': 425,\n",
              " 'sert': 426,\n",
              " 'kitabı': 427,\n",
              " 'ederi̇m': 428,\n",
              " 'olmuyor': 429,\n",
              " 'fena': 430,\n",
              " 'gitti': 431,\n",
              " 'servis': 432,\n",
              " 'altında': 433,\n",
              " 'üzerine': 434,\n",
              " 'nasıl': 435,\n",
              " 'birde': 436,\n",
              " 'ye': 437,\n",
              " 'gelince': 438,\n",
              " 'birşey': 439,\n",
              " 'note': 440,\n",
              " 'yorumları': 441,\n",
              " 'başladım': 442,\n",
              " 'olanlar': 443,\n",
              " 'ön': 444,\n",
              " '0': 445,\n",
              " 'dk': 446,\n",
              " 'üründe': 447,\n",
              " 'sanki': 448,\n",
              " 'kalitesini': 449,\n",
              " 'i̇yi̇': 450,\n",
              " 'sarj': 451,\n",
              " 'almadan': 452,\n",
              " 'etti': 453,\n",
              " 'alıyorum': 454,\n",
              " 'ev': 455,\n",
              " 'cihazı': 456,\n",
              " 'kullanıyoruz': 457,\n",
              " 'geç': 458,\n",
              " 'eşime': 459,\n",
              " 'görünce': 460,\n",
              " 'memnunuz': 461,\n",
              " 'yıldır': 462,\n",
              " 'edici': 463,\n",
              " 'bez': 464,\n",
              " 'arka': 465,\n",
              " 'saatte': 466,\n",
              " 'anda': 467,\n",
              " 'tamamen': 468,\n",
              " 'hizmet': 469,\n",
              " 'çekim': 470,\n",
              " 'herkes': 471,\n",
              " 'parmak': 472,\n",
              " 'akşam': 473,\n",
              " 'tutuyor': 474,\n",
              " 'geçen': 475,\n",
              " 'gore': 476,\n",
              " 'android': 477,\n",
              " 'elimize': 478,\n",
              " '12': 479,\n",
              " 'telefona': 480,\n",
              " 'temizlik': 481,\n",
              " 'görünüyor': 482,\n",
              " 'yumuşak': 483,\n",
              " 'kablo': 484,\n",
              " 'buradan': 485,\n",
              " '100': 486,\n",
              " 'kısmı': 487,\n",
              " 'size': 488,\n",
              " 'orta': 489,\n",
              " 'piyasadaki': 490,\n",
              " 'net': 491,\n",
              " 'hak': 492,\n",
              " 'yere': 493,\n",
              " 'günlük': 494,\n",
              " 'beğendi': 495,\n",
              " 'rahatlığıyla': 496,\n",
              " 'eder': 497,\n",
              " 'hız': 498,\n",
              " 'müzik': 499,\n",
              " 'kalın': 500,\n",
              " 'siyah': 501,\n",
              " 'urunu': 502,\n",
              " 'degil': 503,\n",
              " 'bedava': 504,\n",
              " 'istediğim': 505,\n",
              " 'oğlum': 506,\n",
              " 'saç': 507,\n",
              " 'güvenli': 508,\n",
              " 'kılıf': 509,\n",
              " 'onu': 510,\n",
              " 'yıldız': 511,\n",
              " 'yoksa': 512,\n",
              " 'çıkan': 513,\n",
              " 'hesaplı': 514,\n",
              " 'etmeden': 515,\n",
              " 'hava': 516,\n",
              " 'piyasaya': 517,\n",
              " 'kilo': 518,\n",
              " 'ışık': 519,\n",
              " 'neredeyse': 520,\n",
              " 'fotoğraf': 521,\n",
              " 'i̇çi̇n': 522,\n",
              " 'tşk': 523,\n",
              " 'belki': 524,\n",
              " 'olurdu': 525,\n",
              " 'kablosu': 526,\n",
              " 'bır': 527,\n",
              " 'mı': 528,\n",
              " 'gündür': 529,\n",
              " 'temiz': 530,\n",
              " 'garantili': 531,\n",
              " 'içine': 532,\n",
              " 'alınabilir': 533,\n",
              " 'herşey': 534,\n",
              " 'almanızı': 535,\n",
              " 'siparişi': 536,\n",
              " 'olmaz': 537,\n",
              " 'keşke': 538,\n",
              " 'kendini': 539,\n",
              " 'olacak': 540,\n",
              " 'yakın': 541,\n",
              " 'rengi': 542,\n",
              " 'gun': 543,\n",
              " 'süpürge': 544,\n",
              " 'traş': 545,\n",
              " 'çift': 546,\n",
              " 'şuan': 547,\n",
              " 'gönderim': 548,\n",
              " 'buna': 549,\n",
              " 'motor': 550,\n",
              " 'birkaç': 551,\n",
              " 'hoşuma': 552,\n",
              " 'tasarımı': 553,\n",
              " 'kaldık': 554,\n",
              " 'verdiğim': 555,\n",
              " 'hic': 556,\n",
              " 'değer': 557,\n",
              " 'yağ': 558,\n",
              " 'ekonomik': 559,\n",
              " 'dedim': 560,\n",
              " 'tatmin': 561,\n",
              " 'isteyenlere': 562,\n",
              " 'içinden': 563,\n",
              " 'araştırdım': 564,\n",
              " 'oda': 565,\n",
              " 'yıllardır': 566,\n",
              " 'mevcut': 567,\n",
              " 'kızım': 568,\n",
              " 'kalıyor': 569,\n",
              " 'yapmak': 570,\n",
              " 'buldum': 571,\n",
              " 'şimdilik': 572,\n",
              " 'yanı': 573,\n",
              " 'makina': 574,\n",
              " 'görüyor': 575,\n",
              " 'model': 576,\n",
              " 'kargoda': 577,\n",
              " 'kaldı': 578,\n",
              " '9': 579,\n",
              " 'üstünde': 580,\n",
              " 'avantaj': 581,\n",
              " 'sizi': 582,\n",
              " 'alet': 583,\n",
              " 'müthiş': 584,\n",
              " 'metal': 585,\n",
              " 'ürünleri': 586,\n",
              " 'mouse': 587,\n",
              " 'beraber': 588,\n",
              " 'bebek': 589,\n",
              " 'kullanıyordum': 590,\n",
              " 'geri': 591,\n",
              " 'ederiz': 592,\n",
              " 'başta': 593,\n",
              " 'makul': 594,\n",
              " 'olmazsınız': 595,\n",
              " 'apple': 596,\n",
              " 'yaptı': 597,\n",
              " 'okudum': 598,\n",
              " 'elimde': 599,\n",
              " 'görür': 600,\n",
              " 'olduğundan': 601,\n",
              " 'fiyatının': 602,\n",
              " 'açık': 603,\n",
              " 'üzerinden': 604,\n",
              " 'aşırı': 605,\n",
              " 'özellik': 606,\n",
              " 'e': 607,\n",
              " 'olanlara': 608,\n",
              " 'izi': 609,\n",
              " 'garanti': 610,\n",
              " 'film': 611,\n",
              " 'biz': 612,\n",
              " 'yavaş': 613,\n",
              " 'ucuza': 614,\n",
              " 'bişey': 615,\n",
              " 'tartışılmaz': 616,\n",
              " 'sene': 617,\n",
              " 'super': 618,\n",
              " 'site': 619,\n",
              " 'birçok': 620,\n",
              " 'ücretsiz': 621,\n",
              " 'sonunda': 622,\n",
              " 'ısınma': 623,\n",
              " 'saati': 624,\n",
              " 'batarya': 625,\n",
              " 'kapalı': 626,\n",
              " 'olumsuz': 627,\n",
              " 'alan': 628,\n",
              " 'hediyesi': 629,\n",
              " 'kullaniyorum': 630,\n",
              " 'yapmıyor': 631,\n",
              " 'eve': 632,\n",
              " 'evet': 633,\n",
              " 'önceki': 634,\n",
              " 'sık': 635,\n",
              " 'hakkını': 636,\n",
              " 'beklediğim': 637,\n",
              " 'kelimeyle': 638,\n",
              " 'beyaz': 639,\n",
              " 'zorunda': 640,\n",
              " 'üç': 641,\n",
              " 'kat': 642,\n",
              " 'telefonda': 643,\n",
              " 'tasarım': 644,\n",
              " 'dakika': 645,\n",
              " 'etmek': 646,\n",
              " 'uyumlu': 647,\n",
              " 'önceden': 648,\n",
              " 'olunca': 649,\n",
              " 'severek': 650,\n",
              " 'isteyenler': 651,\n",
              " 'diyorum': 652,\n",
              " 'çanta': 653,\n",
              " 'el': 654,\n",
              " 'istedim': 655,\n",
              " 'iyiki': 656,\n",
              " 'kullanın': 657,\n",
              " 'yoktu': 658,\n",
              " 'sıkıntısı': 659,\n",
              " 'ikinci': 660,\n",
              " 'yorumlarda': 661,\n",
              " 'çekiyor': 662,\n",
              " 'bilmiyorum': 663,\n",
              " 'kullanma': 664,\n",
              " 'araç': 665,\n",
              " 'edin': 666,\n",
              " 'görüntüsü': 667,\n",
              " 'firma': 668,\n",
              " 'alıyor': 669,\n",
              " 'hepsi̇burada': 670,\n",
              " 'alt': 671,\n",
              " 'olmadan': 672,\n",
              " 'bazen': 673,\n",
              " 'dayanıklı': 674,\n",
              " 'olmaması': 675,\n",
              " 'ona': 676,\n",
              " 'iade': 677,\n",
              " 'fiyatlı': 678,\n",
              " 'internet': 679,\n",
              " 'geniş': 680,\n",
              " 'philips': 681,\n",
              " 'koltuk': 682,\n",
              " 'elimdeydi': 683,\n",
              " 'kullanan': 684,\n",
              " 'yaparken': 685,\n",
              " 'derecede': 686,\n",
              " 'asla': 687,\n",
              " '16': 688,\n",
              " 'kalitede': 689,\n",
              " 'taktım': 690,\n",
              " 'resmen': 691,\n",
              " 'eden': 692,\n",
              " 'halde': 693,\n",
              " 'merhaba': 694,\n",
              " 'mukemmel': 695,\n",
              " 'hassas': 696,\n",
              " 'başladı': 697,\n",
              " 'zarar': 698,\n",
              " 'kalitesiz': 699,\n",
              " 'aylık': 700,\n",
              " 'açıkçası': 701,\n",
              " 'mutlu': 702,\n",
              " 'alin': 703,\n",
              " 'yeri': 704,\n",
              " 'ram': 705,\n",
              " 'neden': 706,\n",
              " 'eksiksiz': 707,\n",
              " 'paketlenmiş': 708,\n",
              " 'idi': 709,\n",
              " 'idare': 710,\n",
              " 'iyiydi': 711,\n",
              " 'olabilirdi': 712,\n",
              " 'yarıyor': 713,\n",
              " 'gerekli': 714,\n",
              " 'olduğum': 715,\n",
              " '50': 716,\n",
              " 'parfümü': 717,\n",
              " 'buradaya': 718,\n",
              " 'kelime': 719,\n",
              " 'herkesin': 720,\n",
              " 'olmasi': 721,\n",
              " 'ara': 722,\n",
              " 'verildi': 723,\n",
              " 'yoğun': 724,\n",
              " 'etkisi': 725,\n",
              " 'vermeye': 726,\n",
              " 'saçlarım': 727,\n",
              " 'siz': 728,\n",
              " 'kullanıyor': 729,\n",
              " 'b': 730,\n",
              " '40': 731,\n",
              " 'zamandır': 732,\n",
              " 'yapan': 733,\n",
              " 'olmayan': 734,\n",
              " 'yorumlar': 735,\n",
              " 'ayrica': 736,\n",
              " 'yinede': 737,\n",
              " 'kendim': 738,\n",
              " 'ulasti': 739,\n",
              " 'hafıza': 740,\n",
              " 'etmiyor': 741,\n",
              " 'almış': 742,\n",
              " 'yapılmış': 743,\n",
              " 'verdikten': 744,\n",
              " 'kendime': 745,\n",
              " 'yedek': 746,\n",
              " 'düşünenlere': 747,\n",
              " 'durum': 748,\n",
              " 'sonuçta': 749,\n",
              " 'yerden': 750,\n",
              " 'etmiyorum': 751,\n",
              " 'video': 752,\n",
              " 'çekiş': 753,\n",
              " 'cuma': 754,\n",
              " 'cam': 755,\n",
              " 'uygulama': 756,\n",
              " 'içi': 757,\n",
              " 'işi': 758,\n",
              " 'eksik': 759,\n",
              " 'ihtiyacı': 760,\n",
              " 'eksiği': 761,\n",
              " 'faydalı': 762,\n",
              " 'göz': 763,\n",
              " 'deneme': 764,\n",
              " 'isteyen': 765,\n",
              " 'acaba': 766,\n",
              " 'kısacası': 767,\n",
              " 'kullanabilirsiniz': 768,\n",
              " 'merak': 769,\n",
              " 'temizliyor': 770,\n",
              " 'ürünle': 771,\n",
              " 'rahatlığı': 772,\n",
              " 'p': 773,\n",
              " 'türkiye': 774,\n",
              " 'hepsiburadadan': 775,\n",
              " 'aldı': 776,\n",
              " 'görmedim': 777,\n",
              " 'test': 778,\n",
              " 'ana': 779,\n",
              " 'aldıktan': 780,\n",
              " 'aleti': 781,\n",
              " 'şimdiye': 782,\n",
              " 'yapıyorum': 783,\n",
              " 'olumlu': 784,\n",
              " 'hakkında': 785,\n",
              " 'piyasa': 786,\n",
              " 'ekranı': 787,\n",
              " 'mümkün': 788,\n",
              " 'kış': 789,\n",
              " 'siparis': 790,\n",
              " 'd': 791,\n",
              " 'malı': 792,\n",
              " 'elinize': 793,\n",
              " 'km': 794,\n",
              " 'gösteriyor': 795,\n",
              " 'haricinde': 796,\n",
              " 'donma': 797,\n",
              " 'denemek': 798,\n",
              " 'türlü': 799,\n",
              " 'i': 800,\n",
              " 'alacaklara': 801,\n",
              " 'elde': 802,\n",
              " 'dış': 803,\n",
              " 'dokunmatik': 804,\n",
              " 'gerçek': 805,\n",
              " 'tabiki': 806,\n",
              " 'ürünlere': 807,\n",
              " 'boyutu': 808,\n",
              " 'hissi': 809,\n",
              " 'söyleyebilirim': 810,\n",
              " 'cabası': 811,\n",
              " 'kaldim': 812,\n",
              " 'emiş': 813,\n",
              " 'kanal': 814,\n",
              " 'takip': 815,\n",
              " 'problemi': 816,\n",
              " 'tavsiyem': 817,\n",
              " 'kargolama': 818,\n",
              " 'aslında': 819,\n",
              " 'dahi': 820,\n",
              " 'yardımcı': 821,\n",
              " 'akıcı': 822,\n",
              " 'ütü': 823,\n",
              " 'konuda': 824,\n",
              " 'hayırlı': 825,\n",
              " 'değilim': 826,\n",
              " 'herkeze': 827,\n",
              " 'karşı': 828,\n",
              " 'markanın': 829,\n",
              " 'kutusu': 830,\n",
              " 'elektrik': 831,\n",
              " 'yaz': 832,\n",
              " 'yerli': 833,\n",
              " 'tavsıye': 834,\n",
              " 'emin': 835,\n",
              " 's': 836,\n",
              " 'lg': 837,\n",
              " 'once': 838,\n",
              " 'araba': 839,\n",
              " 'pazartesi': 840,\n",
              " 'f': 841,\n",
              " 'kullandıktan': 842,\n",
              " 'yatak': 843,\n",
              " 'zarif': 844,\n",
              " 'gelir': 845,\n",
              " 'beden': 846,\n",
              " 'özel': 847,\n",
              " 'ciddi': 848,\n",
              " 'kontrol': 849,\n",
              " 'olmak': 850,\n",
              " 'i̇ki': 851,\n",
              " 'zamanla': 852,\n",
              " 'fayda': 853,\n",
              " 'istiyorsanız': 854,\n",
              " 'bağlantı': 855,\n",
              " 'sıfır': 856,\n",
              " 'çıkmadı': 857,\n",
              " 'ayni': 858,\n",
              " 'parasını': 859,\n",
              " 'fön': 860,\n",
              " 'anladım': 861,\n",
              " 'düzgün': 862,\n",
              " 'olmadığı': 863,\n",
              " 'fiyatını': 864,\n",
              " 'kibar': 865,\n",
              " 'veren': 866,\n",
              " 'sağlıklı': 867,\n",
              " 'birisi': 868,\n",
              " 'soğuk': 869,\n",
              " 'montaj': 870,\n",
              " 'klasik': 871,\n",
              " 'parça': 872,\n",
              " 'yarım': 873,\n",
              " 'telefondan': 874,\n",
              " 'okuma': 875,\n",
              " 'makinesi': 876,\n",
              " 'verilen': 877,\n",
              " 'düzenli': 878,\n",
              " 'düşünmeyin': 879,\n",
              " 'kullanılabilir': 880,\n",
              " 'koruyucu': 881,\n",
              " 'anneme': 882,\n",
              " 'hale': 883,\n",
              " 'ömrü': 884,\n",
              " 'kalitesine': 885,\n",
              " 'bulmak': 886,\n",
              " 'kullanmadım': 887,\n",
              " 'saglam': 888,\n",
              " 'normalde': 889,\n",
              " 'cm': 890,\n",
              " 'xiaomi': 891,\n",
              " 'beklemeyin': 892,\n",
              " 'çoğu': 893,\n",
              " 'pili': 894,\n",
              " 'çocuk': 895,\n",
              " 'bakımından': 896,\n",
              " 'birebir': 897,\n",
              " 'yazma': 898,\n",
              " 'boyu': 899,\n",
              " 'hareket': 900,\n",
              " 'siteden': 901,\n",
              " 'cihazın': 902,\n",
              " 'led': 903,\n",
              " 'tahmin': 904,\n",
              " 'kapak': 905,\n",
              " 'bilgisayar': 906,\n",
              " 'ısınıyor': 907,\n",
              " 'eksi': 908,\n",
              " 'gelmesi': 909,\n",
              " 'kalmadı': 910,\n",
              " 'begendim': 911,\n",
              " 'kullanisli': 912,\n",
              " 'verip': 913,\n",
              " 'günden': 914,\n",
              " 'kaçmaz': 915,\n",
              " 'sürükleyici': 916,\n",
              " 'sonucu': 917,\n",
              " 'markası': 918,\n",
              " 'indirim': 919,\n",
              " 'oranı': 920,\n",
              " 'arkadaşım': 921,\n",
              " 'telefonum': 922,\n",
              " 'temizliği': 923,\n",
              " 'şarjlı': 924,\n",
              " 'kullanırken': 925,\n",
              " 'zayıf': 926,\n",
              " 'tesekkur': 927,\n",
              " 'çıkarıyor': 928,\n",
              " 'karşıladı': 929,\n",
              " 'sistemi': 930,\n",
              " 'akıllı': 931,\n",
              " 'ortalama': 932,\n",
              " 'direk': 933,\n",
              " 'alınır': 934,\n",
              " 'olsaydı': 935,\n",
              " 'arkadaslar': 936,\n",
              " 'profesyonel': 937,\n",
              " 'boşuna': 938,\n",
              " 'hd': 939,\n",
              " 'sony': 940,\n",
              " 'iç': 941,\n",
              " 'ekstra': 942,\n",
              " 'yi': 943,\n",
              " 'kuru': 944,\n",
              " 'sonrası': 945,\n",
              " 'almayın': 946,\n",
              " 'lik': 947,\n",
              " 'kusursuz': 948,\n",
              " 'başlık': 949,\n",
              " 'seviyede': 950,\n",
              " 'bluetooth': 951,\n",
              " 'kullanmıştım': 952,\n",
              " 'burda': 953,\n",
              " 'genelde': 954,\n",
              " 'kokuyu': 955,\n",
              " 'olacağını': 956,\n",
              " 'siparişim': 957,\n",
              " 'burdan': 958,\n",
              " 'kampanya': 959,\n",
              " 'nin': 960,\n",
              " 'olanı': 961,\n",
              " 'vestel': 962,\n",
              " 'alacağım': 963,\n",
              " 'tarafı': 964,\n",
              " 'insan': 965,\n",
              " 'artı': 966,\n",
              " 'paketi': 967,\n",
              " 'ayarı': 968,\n",
              " 'karşılıyor': 969,\n",
              " 'üstüne': 970,\n",
              " 'premium': 971,\n",
              " 'kalıcılığı': 972,\n",
              " 'eminim': 973,\n",
              " 'olup': 974,\n",
              " 'ürünlerden': 975,\n",
              " 'malzemesi': 976,\n",
              " 'mavi': 977,\n",
              " 'buradaki': 978,\n",
              " 'markalara': 979,\n",
              " 'parlak': 980,\n",
              " 'söz': 981,\n",
              " 'ergonomik': 982,\n",
              " 'yaptığım': 983,\n",
              " 'kendisi': 984,\n",
              " 'düşünen': 985,\n",
              " 'hızlıydı': 986,\n",
              " 'kasma': 987,\n",
              " 'fiyatta': 988,\n",
              " 'enerji': 989,\n",
              " 'kolayca': 990,\n",
              " 'yan': 991,\n",
              " 'pc': 992,\n",
              " '00': 993,\n",
              " 'bol': 994,\n",
              " 'kablosuz': 995,\n",
              " 'full': 996,\n",
              " 'işinizi': 997,\n",
              " 'modeli': 998,\n",
              " 'oturuyor': 999,\n",
              " 'kişi': 1000,\n",
              " ...}"
            ]
          },
          "metadata": {},
          "execution_count": 7
        }
      ],
      "source": [
        "tokenizer.word_index"
      ]
    },
    {
      "cell_type": "code",
      "execution_count": 8,
      "metadata": {
        "colab": {
          "base_uri": "https://localhost:8080/",
          "height": 0
        },
        "id": "vXJALEeuS0-r",
        "outputId": "9ad0b5ee-140d-4f57-e686-bb7b8d75dc2b"
      },
      "outputs": [
        {
          "output_type": "execute_result",
          "data": {
            "text/plain": [
              "217983"
            ]
          },
          "metadata": {},
          "execution_count": 8
        }
      ],
      "source": [
        "# en cok kullanilan 15bin kelimenin toplam kullanim sayisi\n",
        "len(tokenizer.word_index)"
      ]
    },
    {
      "cell_type": "markdown",
      "metadata": {
        "id": "fLvaN_jAS0-r"
      },
      "source": [
        "## Converting tokens to numeric"
      ]
    },
    {
      "cell_type": "code",
      "execution_count": 9,
      "metadata": {
        "id": "cA9_ma-JS0-s"
      },
      "outputs": [],
      "source": [
        "X_num_tokens = tokenizer.texts_to_sequences(X)"
      ]
    },
    {
      "cell_type": "code",
      "source": [
        "# X_num_tokens"
      ],
      "metadata": {
        "id": "PmszCUnbYwy8"
      },
      "execution_count": 10,
      "outputs": []
    },
    {
      "cell_type": "code",
      "execution_count": 11,
      "metadata": {
        "colab": {
          "base_uri": "https://localhost:8080/",
          "height": 35
        },
        "id": "f5lxx2s6S0-t",
        "outputId": "72fb19ff-9b8f-4736-c4fa-b7befd713dce"
      },
      "outputs": [
        {
          "output_type": "execute_result",
          "data": {
            "application/vnd.google.colaboratory.intrinsic+json": {
              "type": "string"
            },
            "text/plain": [
              "'3 yıldır tık demedi. :)'"
            ]
          },
          "metadata": {},
          "execution_count": 11
        }
      ],
      "source": [
        "X[0]"
      ]
    },
    {
      "cell_type": "code",
      "source": [
        "X_num_tokens[0]"
      ],
      "metadata": {
        "colab": {
          "base_uri": "https://localhost:8080/",
          "height": 0
        },
        "id": "ZV7vTygXCch4",
        "outputId": "fe97424f-a42f-4d20-db88-a9316ef60b1e"
      },
      "execution_count": 12,
      "outputs": [
        {
          "output_type": "execute_result",
          "data": {
            "text/plain": [
              "[52, 462, 1617, 4510]"
            ]
          },
          "metadata": {},
          "execution_count": 12
        }
      ]
    },
    {
      "cell_type": "code",
      "execution_count": 13,
      "metadata": {
        "colab": {
          "base_uri": "https://localhost:8080/",
          "height": 0
        },
        "id": "Cp3sSligS0-u",
        "outputId": "9323be59-ecfc-4558-dba1-af81103137bf"
      },
      "outputs": [
        {
          "output_type": "execute_result",
          "data": {
            "text/plain": [
              "4"
            ]
          },
          "metadata": {},
          "execution_count": 13
        }
      ],
      "source": [
        "len(X_num_tokens[0])"
      ]
    },
    {
      "cell_type": "code",
      "execution_count": 14,
      "metadata": {
        "colab": {
          "base_uri": "https://localhost:8080/",
          "height": 0
        },
        "id": "uIrH5vkMS0-v",
        "outputId": "7efa9f73-a057-4f8e-894b-384ba5ce7984"
      },
      "outputs": [
        {
          "output_type": "execute_result",
          "data": {
            "text/plain": [
              "array([ 4,  4, 66, ...,  4, 10, 38])"
            ]
          },
          "metadata": {},
          "execution_count": 14
        }
      ],
      "source": [
        "num_tokens = np.array([len(tokens) for tokens in X_num_tokens])\n",
        "num_tokens"
      ]
    },
    {
      "cell_type": "markdown",
      "metadata": {
        "id": "9Jd-_B1AS0-w"
      },
      "source": [
        "## Maximum number of tokens for all documents"
      ]
    },
    {
      "cell_type": "code",
      "execution_count": 15,
      "metadata": {
        "colab": {
          "base_uri": "https://localhost:8080/",
          "height": 0
        },
        "id": "QDJSR7P2S0-y",
        "outputId": "beae0469-6939-4e51-d6ad-abcc8698cb90"
      },
      "outputs": [
        {
          "output_type": "execute_result",
          "data": {
            "text/plain": [
              "298"
            ]
          },
          "metadata": {},
          "execution_count": 15
        }
      ],
      "source": [
        "# The number of tokens of the long comment in the corpus.\n",
        "num_tokens.max()"
      ]
    },
    {
      "cell_type": "code",
      "execution_count": 16,
      "metadata": {
        "colab": {
          "base_uri": "https://localhost:8080/",
          "height": 0
        },
        "id": "iO3el1JvS0-y",
        "outputId": "e27acf9c-64f4-492a-e6f0-b4c33d00a0cb"
      },
      "outputs": [
        {
          "output_type": "execute_result",
          "data": {
            "text/plain": [
              "21941"
            ]
          },
          "metadata": {},
          "execution_count": 16
        }
      ],
      "source": [
        "# the index of the long comment in the corpus.\n",
        "num_tokens.argmax()"
      ]
    },
    {
      "cell_type": "code",
      "source": [
        "X[21941]"
      ],
      "metadata": {
        "colab": {
          "base_uri": "https://localhost:8080/",
          "height": 122
        },
        "id": "XIAO1lZmFLOE",
        "outputId": "11ce4012-f74b-40d6-e751-4300535c9e58"
      },
      "execution_count": 17,
      "outputs": [
        {
          "output_type": "execute_result",
          "data": {
            "application/vnd.google.colaboratory.intrinsic+json": {
              "type": "string"
            },
            "text/plain": [
              "'Özellikle bu kısma yazıyorum iyice okuyunuz,cihazın hızı çok iyi.Isınma normal boyutlarda.Kamerası elinizi sabit tutarsanız ve gündüz çok net gece ise çok net çekmez.Görüntülü konuşma özelliği yok ancak uygulama ile olur,anten çekimi gayet iyi.Parmak izi okuyucusu gayet hızlı bazen tuşu silmenizi istiyor ve okuyamıyor kirden vs...Ön kamera da tatmin edici,çekim esnasında ekran beyaz ışık vererek flaş görevi görür.Batarya bana 1 hafta gidiyor sık kullanımda ise 2-3 gün gidiyor.Hızlı şarj 1 saatte doluyor , şekilleri ele oturuyor ve şık bir görüntü var.Telefonu aldığım gün gittim ve ilk girdiğim yerden ekran koruyucu ve kılıf buldum.Kulaklık sesi çok net ve yüksek ancak kendi hoparlörü biraz zayıf sesi.Ekrana bakarken açık kalma özelliği yok.Diğer akıllı cihaz özellikleri %90 ı bu cihazda mevcut.Güç tasarrufu 2 ayrı modu var ve çok başarılı çalışıyor.4gb ram var genelde yarısı boş kalıyor.Bir de yeni cihazların çoğu titreşimi az ve sesi de az çıkıyor.Bu cihaz da içine dahil...Bu cihazlar güncelleme almaz ve rom bulunmuyormuş.Benim için güncelleme sorun olmaz -cihaz parasına göre s serisi ile yarışıyor çünkü.Biraz metal olmasından dolayı elden kolay kaysada duruşu ve gösterişi iyidir.Çift flaşı var arkada.Kısaca şöyle ki bu fiyata bu ürün alınır.5 aydır kullanıyorum kasma donma felan zaten olmaz,bataryası iyi,şekli iyi,özellikler de iyi....En büyük kafa karıştıran soru şu ki hadi cihaz arıza yaptı veya düştü ekranı kırıldı.Bunun bir servisi var,ithalatçı garantisi de var.Cihazın adı sanı belli...Parça bulanmaz tamir olmaz derseniz size kalmış.Zaten normal bir cihazı da düşürseniz farkedermi?.Güncelleme almaz diyorlar bu konuda düşünebilirsiniz.S serisi cihazlarla hızını kıyaslarsınız ama güncelleme ile araya fark koymuşlar.İki katı fiyata satılan cihazla farkı olmasa zaten olmaz değil mi?Almayı düşünenler başka bir cihazla kıyas yapacaksa yine  7pro veya 9 baksınlar.C5 pro da biraz boyutu kısa ve kibar....Sonuçta ömürlük değil alın fazla düşünmeyin'"
            ]
          },
          "metadata": {},
          "execution_count": 17
        }
      ]
    },
    {
      "cell_type": "code",
      "execution_count": 18,
      "metadata": {
        "colab": {
          "base_uri": "https://localhost:8080/",
          "height": 0
        },
        "id": "0J60CAysS0-z",
        "outputId": "3d6bf382-8dd4-40d2-d44b-e3c636b7e6e3"
      },
      "outputs": [
        {
          "output_type": "execute_result",
          "data": {
            "text/plain": [
              "278"
            ]
          },
          "metadata": {},
          "execution_count": 18
        }
      ],
      "source": [
        "len(X[21941].split())\n",
        "# = num_tokens.max() olmasi gerekiyor."
      ]
    },
    {
      "cell_type": "code",
      "execution_count": 19,
      "metadata": {
        "colab": {
          "base_uri": "https://localhost:8080/",
          "height": 0
        },
        "id": "p9kgwGYMS0-x",
        "outputId": "8f5d3a2f-8d51-49d1-84f6-270e4e66adf4"
      },
      "outputs": [
        {
          "output_type": "execute_result",
          "data": {
            "text/plain": [
              "21.36101060793357"
            ]
          },
          "metadata": {},
          "execution_count": 19
        }
      ],
      "source": [
        "# Average number of tokens that a sentence in the corpus has\n",
        "num_tokens.mean()"
      ]
    },
    {
      "cell_type": "code",
      "source": [
        "pd.Series(num_tokens).plot.hist(bins=50);"
      ],
      "metadata": {
        "colab": {
          "base_uri": "https://localhost:8080/",
          "height": 265
        },
        "id": "-JRiaEUgaiWW",
        "outputId": "7e05cb09-338a-464c-dbab-be8f05d7a385"
      },
      "execution_count": 20,
      "outputs": [
        {
          "output_type": "display_data",
          "data": {
            "image/png": "[encoded data removed]",
            "text/plain": [
              "<Figure size 432x288 with 1 Axes>"
            ]
          },
          "metadata": {
            "needs_background": "light"
          }
        }
      ]
    },
    {
      "cell_type": "code",
      "source": [
        "max_tokens = num_tokens.mean() + 2*num_tokens.std()\n",
        "max_tokens = int(max_tokens)\n",
        "max_tokens"
      ],
      "metadata": {
        "colab": {
          "base_uri": "https://localhost:8080/",
          "height": 0
        },
        "id": "bDn28douLFeA",
        "outputId": "53446489-3734-486a-e896-6a8353a872c4"
      },
      "execution_count": 21,
      "outputs": [
        {
          "output_type": "execute_result",
          "data": {
            "text/plain": [
              "61"
            ]
          },
          "metadata": {},
          "execution_count": 21
        }
      ]
    },
    {
      "cell_type": "code",
      "execution_count": 22,
      "metadata": {
        "colab": {
          "base_uri": "https://localhost:8080/",
          "height": 0
        },
        "id": "suuCRpMWS0-z",
        "outputId": "6eeff6d8-deba-421a-f4bb-02703212c601"
      },
      "outputs": [
        {
          "output_type": "execute_result",
          "data": {
            "text/plain": [
              "0.9598968365113328"
            ]
          },
          "metadata": {},
          "execution_count": 22
        }
      ],
      "source": [
        "sum(num_tokens < max_tokens) / len(num_tokens)"
      ]
    },
    {
      "cell_type": "markdown",
      "source": [
        "* RNN e input olarak veriyi verirken her bir satir verinin ayni boyutta olmasi gerekiyor. Corpusta bazi cumle 4 tokenden olusuyor bazisi 20 token. Bunlari esit boyuta getirmek icin her documanin ortalama token sayisini buluruz. Biz bunu standart deviationa gore bir sınır degeri belirleriz. Bu sayidan daha az token iceren document lara 0 ile padding yapariz, daha fazla olanlari ise kırpacagız. Bu islemle anlamdan ihmal edilebilir bir feragat olacaktir(%4luk bir kayip var) ama herbir document ayni boyuta gelirken training maliyetide ve modelin calisma hizinda onemli oranda iyilesme olacaktir."
      ],
      "metadata": {
        "id": "vIh-1uYwG9IV"
      }
    },
    {
      "cell_type": "markdown",
      "metadata": {
        "id": "KRr99XJDS0-0"
      },
      "source": [
        "## Fixing token counts of all documents (pad_sequences)"
      ]
    },
    {
      "cell_type": "code",
      "execution_count": 23,
      "metadata": {
        "id": "f_DhNG3XS0-0"
      },
      "outputs": [],
      "source": [
        "X_pad = pad_sequences(X_num_tokens, maxlen=max_tokens)"
      ]
    },
    {
      "cell_type": "code",
      "execution_count": 24,
      "metadata": {
        "colab": {
          "base_uri": "https://localhost:8080/",
          "height": 0
        },
        "id": "ftndRu6mS0-0",
        "outputId": "d11eedc2-3746-4ee4-9975-aaa3e921ac1c"
      },
      "outputs": [
        {
          "output_type": "execute_result",
          "data": {
            "text/plain": [
              "(243497, 61)"
            ]
          },
          "metadata": {},
          "execution_count": 24
        }
      ],
      "source": [
        "X_pad.shape"
      ]
    },
    {
      "cell_type": "code",
      "source": [
        "X_pad"
      ],
      "metadata": {
        "colab": {
          "base_uri": "https://localhost:8080/",
          "height": 0
        },
        "id": "SiMiMK6SdTjx",
        "outputId": "11bbd59c-ca06-4d98-d503-95906fd48fee"
      },
      "execution_count": 25,
      "outputs": [
        {
          "output_type": "execute_result",
          "data": {
            "text/plain": [
              "array([[    0,     0,     0, ...,   462,  1617,  4510],\n",
              "       [    0,     0,     0, ...,   462,    55,   584],\n",
              "       [   76,  3717,  1698, ...,   595,    16,  1816],\n",
              "       ...,\n",
              "       [    0,     0,     0, ...,    27,     7,     4],\n",
              "       [    0,     0,     0, ...,  2740,   542,    33],\n",
              "       [    0,     0,     0, ..., 12260,    92,    21]], dtype=int32)"
            ]
          },
          "metadata": {},
          "execution_count": 25
        }
      ]
    },
    {
      "cell_type": "code",
      "execution_count": 26,
      "metadata": {
        "colab": {
          "base_uri": "https://localhost:8080/",
          "height": 0
        },
        "id": "zCo5w_mfS0-0",
        "outputId": "04cdc98f-8543-46cb-edf2-1084fd182faa"
      },
      "outputs": [
        {
          "output_type": "execute_result",
          "data": {
            "text/plain": [
              "array([  52,  462, 1617, 4510])"
            ]
          },
          "metadata": {},
          "execution_count": 26
        }
      ],
      "source": [
        "np.array(X_num_tokens[0])"
      ]
    },
    {
      "cell_type": "code",
      "execution_count": 27,
      "metadata": {
        "colab": {
          "base_uri": "https://localhost:8080/",
          "height": 0
        },
        "id": "hM7SAIZES0-0",
        "outputId": "61a49b41-89e7-470f-bbbc-dcb8d8541d82"
      },
      "outputs": [
        {
          "output_type": "execute_result",
          "data": {
            "text/plain": [
              "array([   0,    0,    0,    0,    0,    0,    0,    0,    0,    0,    0,\n",
              "          0,    0,    0,    0,    0,    0,    0,    0,    0,    0,    0,\n",
              "          0,    0,    0,    0,    0,    0,    0,    0,    0,    0,    0,\n",
              "          0,    0,    0,    0,    0,    0,    0,    0,    0,    0,    0,\n",
              "          0,    0,    0,    0,    0,    0,    0,    0,    0,    0,    0,\n",
              "          0,    0,   52,  462, 1617, 4510], dtype=int32)"
            ]
          },
          "metadata": {},
          "execution_count": 27
        }
      ],
      "source": [
        "X_pad[0]"
      ]
    },
    {
      "cell_type": "markdown",
      "source": [
        "* corpusun ilk documanti 4 tokene sahipti. Boyutu 61e tamamlamak icin 0 ile padding yaptik.\n",
        "* padding bastan itibaren 0 ile doldurur. Boylece tokenler arasi anlam baglantisi da korunmus olur. Ayni sekilde kirpmayi da onden yapar, Son 61 tokeni alir."
      ],
      "metadata": {
        "id": "jmlHX0aQOEAi"
      }
    },
    {
      "cell_type": "code",
      "execution_count": 28,
      "metadata": {
        "colab": {
          "base_uri": "https://localhost:8080/",
          "height": 0
        },
        "id": "RyNPv_6XS0-1",
        "outputId": "183e3e20-0aaa-433a-f207-678f5f99f853"
      },
      "outputs": [
        {
          "output_type": "execute_result",
          "data": {
            "text/plain": [
              "array([ 1789,  2440,     7,    44,  1837,    38,    84,   250,    85,\n",
              "          84,  2181,    41,    26,   134,   209,     3,   716,    11,\n",
              "         795,     5,  1478,    58,  1478,    72,   181,  1943,    44,\n",
              "        1433,  4082,   947,   625,   636,    26,  2817,  5518,  3515,\n",
              "         241,  1158,  1174,   454,   874,   755,     1,     7,     3,\n",
              "          45,  2555,     1,     6,   585,  1068,  1160,   170,   811,\n",
              "        2440,  1455,   472,  1785,  2704,  2223,   182,    49,     1,\n",
              "           6,   188,     1,   402,    65,    65,  2330,   345, 13609,\n",
              "         104,  1427,    46,    52,   261,    63,  3515,   260,   232,\n",
              "        2108,    50,    12,     2, 10826,  5593,     5,    31, 12274,\n",
              "        4819,     2,  2731,    60,    28,   111,  9906,     1,    79,\n",
              "         571,  3637,   546,  5455,     1,     6,  2714,   373,   118,\n",
              "         604,   250,  7804,  5277,  6164,  1263,    23,  2871,    14,\n",
              "           6,   133,    56,  8334,    20,  3515,  1174,   170,    14,\n",
              "           3,   402,  1290,   340,   740,    34,   250,   340,   256,\n",
              "        1659,  2696,  2841,   408,   340,   740,   569,  1368,    18,\n",
              "        7021,    71,     5,   988,     2,    44,  9005,   250,   260,\n",
              "         688,   340,   740,  1290,    68,     1,     6,   407,    52,\n",
              "         340,   705,    34,  1102,     7,  3344,    36,   146,   582,\n",
              "        9328,   741,    25,   552,  1943,   868,    18,   140,   168,\n",
              "         420,    62,    54,    37,     1,  2059,     3,     1,    24,\n",
              "         667,    34,  3632,  1514,   792,   699,     2,  2609,    21,\n",
              "         162,   338,  3409,   167,  6030,   101,   759,  4453,   964,\n",
              "          90,    62,    54,   819,    90,    62,    90,   930,    34,\n",
              "          12,     1,   133,    90,   367,     1,    24,    80,   133,\n",
              "          90,   245,  2219,  9352,     5,    39,   315,    25,     6,\n",
              "          44,   245,  2233,     8,  9698,   167,    37,   275,   232,\n",
              "           5,  3979,   134,  7919,  2118,   310,   437,  4901,    36,\n",
              "          25,   138,   940,   590,     3,  1625,   590,    12,     5,\n",
              "         874,   335,     2,  2204,    17,   501,   420,   961,    17,\n",
              "          36,  4289,  2091,  2740,    60,     1,    96,     9,    10,\n",
              "         898,  4239])"
            ]
          },
          "metadata": {},
          "execution_count": 28
        }
      ],
      "source": [
        "np.array(X_num_tokens[212558])"
      ]
    },
    {
      "cell_type": "code",
      "execution_count": 29,
      "metadata": {
        "colab": {
          "base_uri": "https://localhost:8080/",
          "height": 0
        },
        "id": "xI3-TRJkS0-1",
        "outputId": "ed61786b-d3e6-471b-ed8d-84cbcab23ac0"
      },
      "outputs": [
        {
          "output_type": "execute_result",
          "data": {
            "text/plain": [
              "array([ 367,    1,   24,   80,  133,   90,  245, 2219, 9352,    5,   39,\n",
              "        315,   25,    6,   44,  245, 2233,    8, 9698,  167,   37,  275,\n",
              "        232,    5, 3979,  134, 7919, 2118,  310,  437, 4901,   36,   25,\n",
              "        138,  940,  590,    3, 1625,  590,   12,    5,  874,  335,    2,\n",
              "       2204,   17,  501,  420,  961,   17,   36, 4289, 2091, 2740,   60,\n",
              "          1,   96,    9,   10,  898, 4239], dtype=int32)"
            ]
          },
          "metadata": {},
          "execution_count": 29
        }
      ],
      "source": [
        "X_pad[212558]"
      ]
    },
    {
      "cell_type": "markdown",
      "metadata": {
        "id": "MszioE6CS0-1"
      },
      "source": [
        "## Converting numeric tokens to string"
      ]
    },
    {
      "cell_type": "code",
      "execution_count": 30,
      "metadata": {
        "colab": {
          "base_uri": "https://localhost:8080/",
          "height": 0
        },
        "id": "DRhBD4hOS0-1",
        "outputId": "7c254a9b-b42d-44f0-9fbe-31decccf74bc"
      },
      "outputs": [
        {
          "output_type": "execute_result",
          "data": {
            "text/plain": [
              "{1: 'çok',\n",
              " 2: 'bir',\n",
              " 3: 've',\n",
              " 4: 'ürün',\n",
              " 5: 'bu',\n",
              " 6: 'iyi',\n",
              " 7: 'güzel',\n",
              " 8: 'için',\n",
              " 9: 'tavsiye',\n",
              " 10: 'ederim',\n",
              " 11: 'daha',\n",
              " 12: 'ama',\n",
              " 13: 'da',\n",
              " 14: 'gayet',\n",
              " 15: 'hızlı',\n",
              " 16: 'teşekkürler',\n",
              " 17: 'aldım',\n",
              " 18: 'de',\n",
              " 19: 'ürünü',\n",
              " 20: 'gibi',\n",
              " 21: 'yok',\n",
              " 22: 'uygun',\n",
              " 23: 'olarak',\n",
              " 24: 'kaliteli',\n",
              " 25: 'en',\n",
              " 26: '2',\n",
              " 27: 'kargo',\n",
              " 28: 'fiyat',\n",
              " 29: 'elime',\n",
              " 30: 'kadar',\n",
              " 31: 'ile',\n",
              " 32: 'göre',\n",
              " 33: 'geldi',\n",
              " 34: 'var',\n",
              " 35: 'hepsiburada',\n",
              " 36: 'ben',\n",
              " 37: 'gerçekten',\n",
              " 38: '1',\n",
              " 39: 'fiyata',\n",
              " 40: 'gün',\n",
              " 41: 'sonra',\n",
              " 42: 'cok',\n",
              " 43: 'kesinlikle',\n",
              " 44: 'telefon',\n",
              " 45: 'biraz',\n",
              " 46: 'hiç',\n",
              " 47: 'ulaştı',\n",
              " 48: 'memnun',\n",
              " 49: 'hem',\n",
              " 50: 'değil',\n",
              " 51: 'kullanışlı',\n",
              " 52: '3',\n",
              " 53: 'mükemmel',\n",
              " 54: 'oldu',\n",
              " 55: 'kullanıyorum',\n",
              " 56: 'önce',\n",
              " 57: 'sipariş',\n",
              " 58: 'tek',\n",
              " 59: 'her',\n",
              " 60: 'bence',\n",
              " 61: 'harika',\n",
              " 62: 'kalitesi',\n",
              " 63: 'bi',\n",
              " 64: 'ayrıca',\n",
              " 65: '5',\n",
              " 66: 'teşekkür',\n",
              " 67: 'fiyatı',\n",
              " 68: 'olması',\n",
              " 69: 'ne',\n",
              " 70: 'herkese',\n",
              " 71: 'bile',\n",
              " 72: 'uzun',\n",
              " 73: 'süper',\n",
              " 74: 'tam',\n",
              " 75: 'zaten',\n",
              " 76: 'fazla',\n",
              " 77: 'ilk',\n",
              " 78: 'o',\n",
              " 79: 'başarılı',\n",
              " 80: 'fakat',\n",
              " 81: 'memnunum',\n",
              " 82: 'ancak',\n",
              " 83: 'ediyorum',\n",
              " 84: 'şarj',\n",
              " 85: 'saat',\n",
              " 86: 'fiyatına',\n",
              " 87: 'oldukça',\n",
              " 88: 'hemen',\n",
              " 89: 'şekilde',\n",
              " 90: 'ses',\n",
              " 91: 'hepsi',\n",
              " 92: 'gerek',\n",
              " 93: 'rahat',\n",
              " 94: 'aynı',\n",
              " 95: '4',\n",
              " 96: 'şık',\n",
              " 97: 'verdim',\n",
              " 98: 'kolay',\n",
              " 99: 'diye',\n",
              " 100: 'ki',\n",
              " 101: 'sadece',\n",
              " 102: 'kaldım',\n",
              " 103: 'diğer',\n",
              " 104: 'büyük',\n",
              " 105: 'sorun',\n",
              " 106: 'alın',\n",
              " 107: 'burada',\n",
              " 108: 'kısa',\n",
              " 109: 'ürünün',\n",
              " 110: 'sorunsuz',\n",
              " 111: 'performans',\n",
              " 112: 'içinde',\n",
              " 113: 'olan',\n",
              " 114: 'günde',\n",
              " 115: 'olsun',\n",
              " 116: 'küçük',\n",
              " 117: 'urun',\n",
              " 118: '10',\n",
              " 119: 'benim',\n",
              " 120: 'başka',\n",
              " 121: 'iki',\n",
              " 122: 'olduğu',\n",
              " 123: 'teslimat',\n",
              " 124: 'com',\n",
              " 125: 'arkadaşlar',\n",
              " 126: 'sağlam',\n",
              " 127: 'oluyor',\n",
              " 128: 'teslim',\n",
              " 129: 'ettim',\n",
              " 130: 'zaman',\n",
              " 131: 'kalite',\n",
              " 132: 'almak',\n",
              " 133: 'az',\n",
              " 134: 'telefonu',\n",
              " 135: 'yeni',\n",
              " 136: 'cihaz',\n",
              " 137: 'marka',\n",
              " 138: 'son',\n",
              " 139: 'koku',\n",
              " 140: 'ise',\n",
              " 141: 'kullandım',\n",
              " 142: 'kokusu',\n",
              " 143: 'derim',\n",
              " 144: 'olduğunu',\n",
              " 145: 'özellikle',\n",
              " 146: 'beğendim',\n",
              " 147: 'sıkıntı',\n",
              " 148: 'ucuz',\n",
              " 149: 'rağmen',\n",
              " 150: 'geçti',\n",
              " 151: 'geliyor',\n",
              " 152: 'guzel',\n",
              " 153: 'bana',\n",
              " 154: 'ya',\n",
              " 155: 'ideal',\n",
              " 156: 'orjinal',\n",
              " 157: 'almıştım',\n",
              " 158: 'yeterli',\n",
              " 159: 'tane',\n",
              " 160: 'hediye',\n",
              " 161: 'sürede',\n",
              " 162: 'yani',\n",
              " 163: 'normal',\n",
              " 164: 'yaklaşık',\n",
              " 165: 'ediyor',\n",
              " 166: 'hafif',\n",
              " 167: 'bunu',\n",
              " 168: 'ekran',\n",
              " 169: 'aldığım',\n",
              " 170: 'veriyor',\n",
              " 171: '6',\n",
              " 172: 'yüksek',\n",
              " 173: 'tüm',\n",
              " 174: 'pişman',\n",
              " 175: 'tercih',\n",
              " 176: 'düşünmeden',\n",
              " 177: 'kötü',\n",
              " 178: 'düşünüyorum',\n",
              " 179: 'numara',\n",
              " 180: 'bi̇r',\n",
              " 181: 'süre',\n",
              " 182: 'kullanımı',\n",
              " 183: 'çıktı',\n",
              " 184: 'günü',\n",
              " 185: 'su',\n",
              " 186: 'adet',\n",
              " 187: 'şey',\n",
              " 188: 'hemde',\n",
              " 189: 'icin',\n",
              " 190: 'hizli',\n",
              " 191: 'çalışıyor',\n",
              " 192: 'ay',\n",
              " 193: 'hb',\n",
              " 194: 'hafta',\n",
              " 195: 'sesi',\n",
              " 196: 'alışveriş',\n",
              " 197: 'farklı',\n",
              " 198: 'kitap',\n",
              " 199: 'yine',\n",
              " 200: 'böyle',\n",
              " 201: 'zor',\n",
              " 202: 'alabilirsiniz',\n",
              " 203: 'hızı',\n",
              " 204: 'çünkü',\n",
              " 205: 'para',\n",
              " 206: 'ertesi',\n",
              " 207: 'bende',\n",
              " 208: 'kullanım',\n",
              " 209: 'sürekli',\n",
              " 210: 'duruyor',\n",
              " 211: 'aldim',\n",
              " 212: 'olur',\n",
              " 213: 'hoş',\n",
              " 214: 'artık',\n",
              " 215: 'yapıyor',\n",
              " 216: 'konusunda',\n",
              " 217: 'yorumlara',\n",
              " 218: 'gönderi',\n",
              " 219: 'olsa',\n",
              " 220: 'gücü',\n",
              " 221: 'şu',\n",
              " 222: 'vardı',\n",
              " 223: 'üründen',\n",
              " 224: 'malzeme',\n",
              " 225: 'biri',\n",
              " 226: 'pratik',\n",
              " 227: 'dışında',\n",
              " 228: 'defa',\n",
              " 229: 'kullandığım',\n",
              " 230: 'şimdi',\n",
              " 231: 'diş',\n",
              " 232: 'samsung',\n",
              " 233: 'onun',\n",
              " 234: 'bugün',\n",
              " 235: 'özelliği',\n",
              " 236: 'iş',\n",
              " 237: 'kurulumu',\n",
              " 238: 'tereddüt',\n",
              " 239: 'şarjı',\n",
              " 240: 'i̇lk',\n",
              " 241: '7',\n",
              " 242: 'ince',\n",
              " 243: 'gelen',\n",
              " 244: 'kullanmaya',\n",
              " 245: 'diyebilirim',\n",
              " 246: 'almayı',\n",
              " 247: 'pek',\n",
              " 248: 'aldık',\n",
              " 249: 'denedim',\n",
              " 250: '8',\n",
              " 251: 'tekrar',\n",
              " 252: 'çabuk',\n",
              " 253: 'karar',\n",
              " 254: 'kez',\n",
              " 255: 'sahip',\n",
              " 256: 'kendi',\n",
              " 257: 'basit',\n",
              " 258: 'dolayı',\n",
              " 259: 'derece',\n",
              " 260: 'veya',\n",
              " 261: 'kamera',\n",
              " 262: 'pil',\n",
              " 263: 'hiçbir',\n",
              " 264: 'öncelikle',\n",
              " 265: 'açısından',\n",
              " 266: 'iphone',\n",
              " 267: 'sonuç',\n",
              " 268: 'yanında',\n",
              " 269: 'sessiz',\n",
              " 270: 'pahalı',\n",
              " 271: 'işe',\n",
              " 272: 'gidiyor',\n",
              " 273: 'dan',\n",
              " 274: 'olmadı',\n",
              " 275: 'öyle',\n",
              " 276: 'tesekkurler',\n",
              " 277: 'bunun',\n",
              " 278: 'beni',\n",
              " 279: 'varsa',\n",
              " 280: 'yer',\n",
              " 281: 'gece',\n",
              " 282: 'zamanında',\n",
              " 283: 'yorum',\n",
              " 284: 'performansı',\n",
              " 285: 'parfüm',\n",
              " 286: 'evde',\n",
              " 287: 'belli',\n",
              " 288: 'eğer',\n",
              " 289: 'oyun',\n",
              " 290: 'ağır',\n",
              " 291: 'iyisi',\n",
              " 292: 'arada',\n",
              " 293: 'mutlaka',\n",
              " 294: 'zamanda',\n",
              " 295: 'usb',\n",
              " 296: 'ufak',\n",
              " 297: 'üzerinde',\n",
              " 298: 'hatta',\n",
              " 299: 'fark',\n",
              " 300: 'gönül',\n",
              " 301: 'paketleme',\n",
              " 302: 'eşim',\n",
              " 303: 'alacak',\n",
              " 304: '15',\n",
              " 305: 'gereken',\n",
              " 306: 'doğru',\n",
              " 307: 'eski',\n",
              " 308: 'herhangi',\n",
              " 309: 'aydır',\n",
              " 310: 'tl',\n",
              " 311: 'kalıcı',\n",
              " 312: 'rahatlıkla',\n",
              " 313: 'vs',\n",
              " 314: 'satın',\n",
              " 315: 'alınabilecek',\n",
              " 316: 'bundan',\n",
              " 317: 'farkı',\n",
              " 318: 'görüntü',\n",
              " 319: 'lazım',\n",
              " 320: 'gercekten',\n",
              " 321: 'şiddetle',\n",
              " 322: 'kullanmak',\n",
              " 323: 'kaçırmayın',\n",
              " 324: 'alırken',\n",
              " 325: 'kargoya',\n",
              " 326: 'yaşamadım',\n",
              " 327: 'mi',\n",
              " 328: 'yaptım',\n",
              " 329: 'prima',\n",
              " 330: 'birlikte',\n",
              " 331: 'gördüm',\n",
              " 332: 'gerekiyor',\n",
              " 333: 'telefonun',\n",
              " 334: 'ürünler',\n",
              " 335: 'ayrı',\n",
              " 336: 'önemli',\n",
              " 337: 'sayesinde',\n",
              " 338: 'bütün',\n",
              " 339: 'yıl',\n",
              " 340: 'gb',\n",
              " 341: 'alalı',\n",
              " 342: 'beklediğimden',\n",
              " 343: 'almaya',\n",
              " 344: 'yerde',\n",
              " 345: 'olmasına',\n",
              " 346: 'tv',\n",
              " 347: 'sabah',\n",
              " 348: 'devam',\n",
              " 349: 'kutu',\n",
              " 350: 'henüz',\n",
              " 351: 'falan',\n",
              " 352: 'sorunu',\n",
              " 353: 'tabi',\n",
              " 354: 'a',\n",
              " 355: '20',\n",
              " 356: 'bakarak',\n",
              " 357: 'sanırım',\n",
              " 358: 'hepsiburadaya',\n",
              " 359: 'kulaklık',\n",
              " 360: 'süresi',\n",
              " 361: 'hala',\n",
              " 362: 'muhteşem',\n",
              " 363: 'dikkat',\n",
              " 364: 'güvenilir',\n",
              " 365: 'rahatsız',\n",
              " 366: 'edilir',\n",
              " 367: 'çıkıyor',\n",
              " 368: 'alıp',\n",
              " 369: 'yüzden',\n",
              " 370: 'toz',\n",
              " 371: 'kere',\n",
              " 372: 'orijinal',\n",
              " 373: 'sağlıyor',\n",
              " 374: 'kamerası',\n",
              " 375: 'dün',\n",
              " 376: 'ürüne',\n",
              " 377: 'düşük',\n",
              " 378: 'spor',\n",
              " 379: 'i̇yi',\n",
              " 380: 'problem',\n",
              " 381: 'öneririm',\n",
              " 382: 'edildi',\n",
              " 383: 'plastik',\n",
              " 384: 'içerisinde',\n",
              " 385: 'makine',\n",
              " 386: 'beri',\n",
              " 387: 'fazlasıyla',\n",
              " 388: 'baya',\n",
              " 389: 'kullanımda',\n",
              " 390: '30',\n",
              " 391: 'tavsi̇ye',\n",
              " 392: 'an',\n",
              " 393: 'yalnız',\n",
              " 394: 'özellikleri',\n",
              " 395: 'on',\n",
              " 396: 'den',\n",
              " 397: 'satıcı',\n",
              " 398: 'ilgili',\n",
              " 399: 'genel',\n",
              " 400: 'oldum',\n",
              " 401: 'kaç',\n",
              " 402: 'etkili',\n",
              " 403: 'sıcak',\n",
              " 404: 'haftadır',\n",
              " 405: 'üstelik',\n",
              " 406: 'fiyatıda',\n",
              " 407: 'olmuş',\n",
              " 408: '24',\n",
              " 409: 'yada',\n",
              " 410: 'hep',\n",
              " 411: 'üst',\n",
              " 412: 'olabilir',\n",
              " 413: 'paket',\n",
              " 414: 'bazı',\n",
              " 415: 'almışım',\n",
              " 416: 'güçlü',\n",
              " 417: 'piyasada',\n",
              " 418: 'yerine',\n",
              " 419: 'arasında',\n",
              " 420: 'renk',\n",
              " 421: 'inanılmaz',\n",
              " 422: 'arkadaşlara',\n",
              " 423: 'paraya',\n",
              " 424: 'kurulum',\n",
              " 425: 'umarım',\n",
              " 426: 'sert',\n",
              " 427: 'kitabı',\n",
              " 428: 'ederi̇m',\n",
              " 429: 'olmuyor',\n",
              " 430: 'fena',\n",
              " 431: 'gitti',\n",
              " 432: 'servis',\n",
              " 433: 'altında',\n",
              " 434: 'üzerine',\n",
              " 435: 'nasıl',\n",
              " 436: 'birde',\n",
              " 437: 'ye',\n",
              " 438: 'gelince',\n",
              " 439: 'birşey',\n",
              " 440: 'note',\n",
              " 441: 'yorumları',\n",
              " 442: 'başladım',\n",
              " 443: 'olanlar',\n",
              " 444: 'ön',\n",
              " 445: '0',\n",
              " 446: 'dk',\n",
              " 447: 'üründe',\n",
              " 448: 'sanki',\n",
              " 449: 'kalitesini',\n",
              " 450: 'i̇yi̇',\n",
              " 451: 'sarj',\n",
              " 452: 'almadan',\n",
              " 453: 'etti',\n",
              " 454: 'alıyorum',\n",
              " 455: 'ev',\n",
              " 456: 'cihazı',\n",
              " 457: 'kullanıyoruz',\n",
              " 458: 'geç',\n",
              " 459: 'eşime',\n",
              " 460: 'görünce',\n",
              " 461: 'memnunuz',\n",
              " 462: 'yıldır',\n",
              " 463: 'edici',\n",
              " 464: 'bez',\n",
              " 465: 'arka',\n",
              " 466: 'saatte',\n",
              " 467: 'anda',\n",
              " 468: 'tamamen',\n",
              " 469: 'hizmet',\n",
              " 470: 'çekim',\n",
              " 471: 'herkes',\n",
              " 472: 'parmak',\n",
              " 473: 'akşam',\n",
              " 474: 'tutuyor',\n",
              " 475: 'geçen',\n",
              " 476: 'gore',\n",
              " 477: 'android',\n",
              " 478: 'elimize',\n",
              " 479: '12',\n",
              " 480: 'telefona',\n",
              " 481: 'temizlik',\n",
              " 482: 'görünüyor',\n",
              " 483: 'yumuşak',\n",
              " 484: 'kablo',\n",
              " 485: 'buradan',\n",
              " 486: '100',\n",
              " 487: 'kısmı',\n",
              " 488: 'size',\n",
              " 489: 'orta',\n",
              " 490: 'piyasadaki',\n",
              " 491: 'net',\n",
              " 492: 'hak',\n",
              " 493: 'yere',\n",
              " 494: 'günlük',\n",
              " 495: 'beğendi',\n",
              " 496: 'rahatlığıyla',\n",
              " 497: 'eder',\n",
              " 498: 'hız',\n",
              " 499: 'müzik',\n",
              " 500: 'kalın',\n",
              " 501: 'siyah',\n",
              " 502: 'urunu',\n",
              " 503: 'degil',\n",
              " 504: 'bedava',\n",
              " 505: 'istediğim',\n",
              " 506: 'oğlum',\n",
              " 507: 'saç',\n",
              " 508: 'güvenli',\n",
              " 509: 'kılıf',\n",
              " 510: 'onu',\n",
              " 511: 'yıldız',\n",
              " 512: 'yoksa',\n",
              " 513: 'çıkan',\n",
              " 514: 'hesaplı',\n",
              " 515: 'etmeden',\n",
              " 516: 'hava',\n",
              " 517: 'piyasaya',\n",
              " 518: 'kilo',\n",
              " 519: 'ışık',\n",
              " 520: 'neredeyse',\n",
              " 521: 'fotoğraf',\n",
              " 522: 'i̇çi̇n',\n",
              " 523: 'tşk',\n",
              " 524: 'belki',\n",
              " 525: 'olurdu',\n",
              " 526: 'kablosu',\n",
              " 527: 'bır',\n",
              " 528: 'mı',\n",
              " 529: 'gündür',\n",
              " 530: 'temiz',\n",
              " 531: 'garantili',\n",
              " 532: 'içine',\n",
              " 533: 'alınabilir',\n",
              " 534: 'herşey',\n",
              " 535: 'almanızı',\n",
              " 536: 'siparişi',\n",
              " 537: 'olmaz',\n",
              " 538: 'keşke',\n",
              " 539: 'kendini',\n",
              " 540: 'olacak',\n",
              " 541: 'yakın',\n",
              " 542: 'rengi',\n",
              " 543: 'gun',\n",
              " 544: 'süpürge',\n",
              " 545: 'traş',\n",
              " 546: 'çift',\n",
              " 547: 'şuan',\n",
              " 548: 'gönderim',\n",
              " 549: 'buna',\n",
              " 550: 'motor',\n",
              " 551: 'birkaç',\n",
              " 552: 'hoşuma',\n",
              " 553: 'tasarımı',\n",
              " 554: 'kaldık',\n",
              " 555: 'verdiğim',\n",
              " 556: 'hic',\n",
              " 557: 'değer',\n",
              " 558: 'yağ',\n",
              " 559: 'ekonomik',\n",
              " 560: 'dedim',\n",
              " 561: 'tatmin',\n",
              " 562: 'isteyenlere',\n",
              " 563: 'içinden',\n",
              " 564: 'araştırdım',\n",
              " 565: 'oda',\n",
              " 566: 'yıllardır',\n",
              " 567: 'mevcut',\n",
              " 568: 'kızım',\n",
              " 569: 'kalıyor',\n",
              " 570: 'yapmak',\n",
              " 571: 'buldum',\n",
              " 572: 'şimdilik',\n",
              " 573: 'yanı',\n",
              " 574: 'makina',\n",
              " 575: 'görüyor',\n",
              " 576: 'model',\n",
              " 577: 'kargoda',\n",
              " 578: 'kaldı',\n",
              " 579: '9',\n",
              " 580: 'üstünde',\n",
              " 581: 'avantaj',\n",
              " 582: 'sizi',\n",
              " 583: 'alet',\n",
              " 584: 'müthiş',\n",
              " 585: 'metal',\n",
              " 586: 'ürünleri',\n",
              " 587: 'mouse',\n",
              " 588: 'beraber',\n",
              " 589: 'bebek',\n",
              " 590: 'kullanıyordum',\n",
              " 591: 'geri',\n",
              " 592: 'ederiz',\n",
              " 593: 'başta',\n",
              " 594: 'makul',\n",
              " 595: 'olmazsınız',\n",
              " 596: 'apple',\n",
              " 597: 'yaptı',\n",
              " 598: 'okudum',\n",
              " 599: 'elimde',\n",
              " 600: 'görür',\n",
              " 601: 'olduğundan',\n",
              " 602: 'fiyatının',\n",
              " 603: 'açık',\n",
              " 604: 'üzerinden',\n",
              " 605: 'aşırı',\n",
              " 606: 'özellik',\n",
              " 607: 'e',\n",
              " 608: 'olanlara',\n",
              " 609: 'izi',\n",
              " 610: 'garanti',\n",
              " 611: 'film',\n",
              " 612: 'biz',\n",
              " 613: 'yavaş',\n",
              " 614: 'ucuza',\n",
              " 615: 'bişey',\n",
              " 616: 'tartışılmaz',\n",
              " 617: 'sene',\n",
              " 618: 'super',\n",
              " 619: 'site',\n",
              " 620: 'birçok',\n",
              " 621: 'ücretsiz',\n",
              " 622: 'sonunda',\n",
              " 623: 'ısınma',\n",
              " 624: 'saati',\n",
              " 625: 'batarya',\n",
              " 626: 'kapalı',\n",
              " 627: 'olumsuz',\n",
              " 628: 'alan',\n",
              " 629: 'hediyesi',\n",
              " 630: 'kullaniyorum',\n",
              " 631: 'yapmıyor',\n",
              " 632: 'eve',\n",
              " 633: 'evet',\n",
              " 634: 'önceki',\n",
              " 635: 'sık',\n",
              " 636: 'hakkını',\n",
              " 637: 'beklediğim',\n",
              " 638: 'kelimeyle',\n",
              " 639: 'beyaz',\n",
              " 640: 'zorunda',\n",
              " 641: 'üç',\n",
              " 642: 'kat',\n",
              " 643: 'telefonda',\n",
              " 644: 'tasarım',\n",
              " 645: 'dakika',\n",
              " 646: 'etmek',\n",
              " 647: 'uyumlu',\n",
              " 648: 'önceden',\n",
              " 649: 'olunca',\n",
              " 650: 'severek',\n",
              " 651: 'isteyenler',\n",
              " 652: 'diyorum',\n",
              " 653: 'çanta',\n",
              " 654: 'el',\n",
              " 655: 'istedim',\n",
              " 656: 'iyiki',\n",
              " 657: 'kullanın',\n",
              " 658: 'yoktu',\n",
              " 659: 'sıkıntısı',\n",
              " 660: 'ikinci',\n",
              " 661: 'yorumlarda',\n",
              " 662: 'çekiyor',\n",
              " 663: 'bilmiyorum',\n",
              " 664: 'kullanma',\n",
              " 665: 'araç',\n",
              " 666: 'edin',\n",
              " 667: 'görüntüsü',\n",
              " 668: 'firma',\n",
              " 669: 'alıyor',\n",
              " 670: 'hepsi̇burada',\n",
              " 671: 'alt',\n",
              " 672: 'olmadan',\n",
              " 673: 'bazen',\n",
              " 674: 'dayanıklı',\n",
              " 675: 'olmaması',\n",
              " 676: 'ona',\n",
              " 677: 'iade',\n",
              " 678: 'fiyatlı',\n",
              " 679: 'internet',\n",
              " 680: 'geniş',\n",
              " 681: 'philips',\n",
              " 682: 'koltuk',\n",
              " 683: 'elimdeydi',\n",
              " 684: 'kullanan',\n",
              " 685: 'yaparken',\n",
              " 686: 'derecede',\n",
              " 687: 'asla',\n",
              " 688: '16',\n",
              " 689: 'kalitede',\n",
              " 690: 'taktım',\n",
              " 691: 'resmen',\n",
              " 692: 'eden',\n",
              " 693: 'halde',\n",
              " 694: 'merhaba',\n",
              " 695: 'mukemmel',\n",
              " 696: 'hassas',\n",
              " 697: 'başladı',\n",
              " 698: 'zarar',\n",
              " 699: 'kalitesiz',\n",
              " 700: 'aylık',\n",
              " 701: 'açıkçası',\n",
              " 702: 'mutlu',\n",
              " 703: 'alin',\n",
              " 704: 'yeri',\n",
              " 705: 'ram',\n",
              " 706: 'neden',\n",
              " 707: 'eksiksiz',\n",
              " 708: 'paketlenmiş',\n",
              " 709: 'idi',\n",
              " 710: 'idare',\n",
              " 711: 'iyiydi',\n",
              " 712: 'olabilirdi',\n",
              " 713: 'yarıyor',\n",
              " 714: 'gerekli',\n",
              " 715: 'olduğum',\n",
              " 716: '50',\n",
              " 717: 'parfümü',\n",
              " 718: 'buradaya',\n",
              " 719: 'kelime',\n",
              " 720: 'herkesin',\n",
              " 721: 'olmasi',\n",
              " 722: 'ara',\n",
              " 723: 'verildi',\n",
              " 724: 'yoğun',\n",
              " 725: 'etkisi',\n",
              " 726: 'vermeye',\n",
              " 727: 'saçlarım',\n",
              " 728: 'siz',\n",
              " 729: 'kullanıyor',\n",
              " 730: 'b',\n",
              " 731: '40',\n",
              " 732: 'zamandır',\n",
              " 733: 'yapan',\n",
              " 734: 'olmayan',\n",
              " 735: 'yorumlar',\n",
              " 736: 'ayrica',\n",
              " 737: 'yinede',\n",
              " 738: 'kendim',\n",
              " 739: 'ulasti',\n",
              " 740: 'hafıza',\n",
              " 741: 'etmiyor',\n",
              " 742: 'almış',\n",
              " 743: 'yapılmış',\n",
              " 744: 'verdikten',\n",
              " 745: 'kendime',\n",
              " 746: 'yedek',\n",
              " 747: 'düşünenlere',\n",
              " 748: 'durum',\n",
              " 749: 'sonuçta',\n",
              " 750: 'yerden',\n",
              " 751: 'etmiyorum',\n",
              " 752: 'video',\n",
              " 753: 'çekiş',\n",
              " 754: 'cuma',\n",
              " 755: 'cam',\n",
              " 756: 'uygulama',\n",
              " 757: 'içi',\n",
              " 758: 'işi',\n",
              " 759: 'eksik',\n",
              " 760: 'ihtiyacı',\n",
              " 761: 'eksiği',\n",
              " 762: 'faydalı',\n",
              " 763: 'göz',\n",
              " 764: 'deneme',\n",
              " 765: 'isteyen',\n",
              " 766: 'acaba',\n",
              " 767: 'kısacası',\n",
              " 768: 'kullanabilirsiniz',\n",
              " 769: 'merak',\n",
              " 770: 'temizliyor',\n",
              " 771: 'ürünle',\n",
              " 772: 'rahatlığı',\n",
              " 773: 'p',\n",
              " 774: 'türkiye',\n",
              " 775: 'hepsiburadadan',\n",
              " 776: 'aldı',\n",
              " 777: 'görmedim',\n",
              " 778: 'test',\n",
              " 779: 'ana',\n",
              " 780: 'aldıktan',\n",
              " 781: 'aleti',\n",
              " 782: 'şimdiye',\n",
              " 783: 'yapıyorum',\n",
              " 784: 'olumlu',\n",
              " 785: 'hakkında',\n",
              " 786: 'piyasa',\n",
              " 787: 'ekranı',\n",
              " 788: 'mümkün',\n",
              " 789: 'kış',\n",
              " 790: 'siparis',\n",
              " 791: 'd',\n",
              " 792: 'malı',\n",
              " 793: 'elinize',\n",
              " 794: 'km',\n",
              " 795: 'gösteriyor',\n",
              " 796: 'haricinde',\n",
              " 797: 'donma',\n",
              " 798: 'denemek',\n",
              " 799: 'türlü',\n",
              " 800: 'i',\n",
              " 801: 'alacaklara',\n",
              " 802: 'elde',\n",
              " 803: 'dış',\n",
              " 804: 'dokunmatik',\n",
              " 805: 'gerçek',\n",
              " 806: 'tabiki',\n",
              " 807: 'ürünlere',\n",
              " 808: 'boyutu',\n",
              " 809: 'hissi',\n",
              " 810: 'söyleyebilirim',\n",
              " 811: 'cabası',\n",
              " 812: 'kaldim',\n",
              " 813: 'emiş',\n",
              " 814: 'kanal',\n",
              " 815: 'takip',\n",
              " 816: 'problemi',\n",
              " 817: 'tavsiyem',\n",
              " 818: 'kargolama',\n",
              " 819: 'aslında',\n",
              " 820: 'dahi',\n",
              " 821: 'yardımcı',\n",
              " 822: 'akıcı',\n",
              " 823: 'ütü',\n",
              " 824: 'konuda',\n",
              " 825: 'hayırlı',\n",
              " 826: 'değilim',\n",
              " 827: 'herkeze',\n",
              " 828: 'karşı',\n",
              " 829: 'markanın',\n",
              " 830: 'kutusu',\n",
              " 831: 'elektrik',\n",
              " 832: 'yaz',\n",
              " 833: 'yerli',\n",
              " 834: 'tavsıye',\n",
              " 835: 'emin',\n",
              " 836: 's',\n",
              " 837: 'lg',\n",
              " 838: 'once',\n",
              " 839: 'araba',\n",
              " 840: 'pazartesi',\n",
              " 841: 'f',\n",
              " 842: 'kullandıktan',\n",
              " 843: 'yatak',\n",
              " 844: 'zarif',\n",
              " 845: 'gelir',\n",
              " 846: 'beden',\n",
              " 847: 'özel',\n",
              " 848: 'ciddi',\n",
              " 849: 'kontrol',\n",
              " 850: 'olmak',\n",
              " 851: 'i̇ki',\n",
              " 852: 'zamanla',\n",
              " 853: 'fayda',\n",
              " 854: 'istiyorsanız',\n",
              " 855: 'bağlantı',\n",
              " 856: 'sıfır',\n",
              " 857: 'çıkmadı',\n",
              " 858: 'ayni',\n",
              " 859: 'parasını',\n",
              " 860: 'fön',\n",
              " 861: 'anladım',\n",
              " 862: 'düzgün',\n",
              " 863: 'olmadığı',\n",
              " 864: 'fiyatını',\n",
              " 865: 'kibar',\n",
              " 866: 'veren',\n",
              " 867: 'sağlıklı',\n",
              " 868: 'birisi',\n",
              " 869: 'soğuk',\n",
              " 870: 'montaj',\n",
              " 871: 'klasik',\n",
              " 872: 'parça',\n",
              " 873: 'yarım',\n",
              " 874: 'telefondan',\n",
              " 875: 'okuma',\n",
              " 876: 'makinesi',\n",
              " 877: 'verilen',\n",
              " 878: 'düzenli',\n",
              " 879: 'düşünmeyin',\n",
              " 880: 'kullanılabilir',\n",
              " 881: 'koruyucu',\n",
              " 882: 'anneme',\n",
              " 883: 'hale',\n",
              " 884: 'ömrü',\n",
              " 885: 'kalitesine',\n",
              " 886: 'bulmak',\n",
              " 887: 'kullanmadım',\n",
              " 888: 'saglam',\n",
              " 889: 'normalde',\n",
              " 890: 'cm',\n",
              " 891: 'xiaomi',\n",
              " 892: 'beklemeyin',\n",
              " 893: 'çoğu',\n",
              " 894: 'pili',\n",
              " 895: 'çocuk',\n",
              " 896: 'bakımından',\n",
              " 897: 'birebir',\n",
              " 898: 'yazma',\n",
              " 899: 'boyu',\n",
              " 900: 'hareket',\n",
              " 901: 'siteden',\n",
              " 902: 'cihazın',\n",
              " 903: 'led',\n",
              " 904: 'tahmin',\n",
              " 905: 'kapak',\n",
              " 906: 'bilgisayar',\n",
              " 907: 'ısınıyor',\n",
              " 908: 'eksi',\n",
              " 909: 'gelmesi',\n",
              " 910: 'kalmadı',\n",
              " 911: 'begendim',\n",
              " 912: 'kullanisli',\n",
              " 913: 'verip',\n",
              " 914: 'günden',\n",
              " 915: 'kaçmaz',\n",
              " 916: 'sürükleyici',\n",
              " 917: 'sonucu',\n",
              " 918: 'markası',\n",
              " 919: 'indirim',\n",
              " 920: 'oranı',\n",
              " 921: 'arkadaşım',\n",
              " 922: 'telefonum',\n",
              " 923: 'temizliği',\n",
              " 924: 'şarjlı',\n",
              " 925: 'kullanırken',\n",
              " 926: 'zayıf',\n",
              " 927: 'tesekkur',\n",
              " 928: 'çıkarıyor',\n",
              " 929: 'karşıladı',\n",
              " 930: 'sistemi',\n",
              " 931: 'akıllı',\n",
              " 932: 'ortalama',\n",
              " 933: 'direk',\n",
              " 934: 'alınır',\n",
              " 935: 'olsaydı',\n",
              " 936: 'arkadaslar',\n",
              " 937: 'profesyonel',\n",
              " 938: 'boşuna',\n",
              " 939: 'hd',\n",
              " 940: 'sony',\n",
              " 941: 'iç',\n",
              " 942: 'ekstra',\n",
              " 943: 'yi',\n",
              " 944: 'kuru',\n",
              " 945: 'sonrası',\n",
              " 946: 'almayın',\n",
              " 947: 'lik',\n",
              " 948: 'kusursuz',\n",
              " 949: 'başlık',\n",
              " 950: 'seviyede',\n",
              " 951: 'bluetooth',\n",
              " 952: 'kullanmıştım',\n",
              " 953: 'burda',\n",
              " 954: 'genelde',\n",
              " 955: 'kokuyu',\n",
              " 956: 'olacağını',\n",
              " 957: 'siparişim',\n",
              " 958: 'burdan',\n",
              " 959: 'kampanya',\n",
              " 960: 'nin',\n",
              " 961: 'olanı',\n",
              " 962: 'vestel',\n",
              " 963: 'alacağım',\n",
              " 964: 'tarafı',\n",
              " 965: 'insan',\n",
              " 966: 'artı',\n",
              " 967: 'paketi',\n",
              " 968: 'ayarı',\n",
              " 969: 'karşılıyor',\n",
              " 970: 'üstüne',\n",
              " 971: 'premium',\n",
              " 972: 'kalıcılığı',\n",
              " 973: 'eminim',\n",
              " 974: 'olup',\n",
              " 975: 'ürünlerden',\n",
              " 976: 'malzemesi',\n",
              " 977: 'mavi',\n",
              " 978: 'buradaki',\n",
              " 979: 'markalara',\n",
              " 980: 'parlak',\n",
              " 981: 'söz',\n",
              " 982: 'ergonomik',\n",
              " 983: 'yaptığım',\n",
              " 984: 'kendisi',\n",
              " 985: 'düşünen',\n",
              " 986: 'hızlıydı',\n",
              " 987: 'kasma',\n",
              " 988: 'fiyatta',\n",
              " 989: 'enerji',\n",
              " 990: 'kolayca',\n",
              " 991: 'yan',\n",
              " 992: 'pc',\n",
              " 993: '00',\n",
              " 994: 'bol',\n",
              " 995: 'kablosuz',\n",
              " 996: 'full',\n",
              " 997: 'işinizi',\n",
              " 998: 'modeli',\n",
              " 999: 'oturuyor',\n",
              " 1000: 'kişi',\n",
              " ...}"
            ]
          },
          "metadata": {},
          "execution_count": 30
        }
      ],
      "source": [
        "index = tokenizer.word_index\n",
        "inverse_map = dict(zip(index.values(), index.keys()))\n",
        "inverse_map"
      ]
    },
    {
      "cell_type": "code",
      "execution_count": 31,
      "metadata": {
        "id": "9GlDQOyeS0-1"
      },
      "outputs": [],
      "source": [
        "def tokens_to_string(tokens):\n",
        "    words = [inverse_map[token] for token in tokens if token!=0]\n",
        "    text = ' '.join(words)\n",
        "    return text"
      ]
    },
    {
      "cell_type": "code",
      "execution_count": 32,
      "metadata": {
        "colab": {
          "base_uri": "https://localhost:8080/",
          "height": 53
        },
        "id": "5cOO4PTeS0-2",
        "outputId": "47f01131-0f07-4367-c875-9a60183c4501"
      },
      "outputs": [
        {
          "output_type": "execute_result",
          "data": {
            "application/vnd.google.colaboratory.intrinsic+json": {
              "type": "string"
            },
            "text/plain": [
              "'ürünü alalı 3 hafta kadar oldu. aralıksız kullanıyorum bilgisyarım sürekli açık durur ve ben günde yaklaşık 12 saat başındayım mousesu çok kullanırım. şimdiye kadar bir problem yaşamadım ve çok memnunum almak isteyenlere tavsiye ederim.'"
            ]
          },
          "metadata": {},
          "execution_count": 32
        }
      ],
      "source": [
        "X[800]"
      ]
    },
    {
      "cell_type": "code",
      "execution_count": 33,
      "metadata": {
        "colab": {
          "base_uri": "https://localhost:8080/",
          "height": 53
        },
        "id": "MtJ7xoKES0-2",
        "outputId": "c2ec6c0a-33b3-42b2-e437-731dbd8ced0b"
      },
      "outputs": [
        {
          "output_type": "execute_result",
          "data": {
            "application/vnd.google.colaboratory.intrinsic+json": {
              "type": "string"
            },
            "text/plain": [
              "'ürünü alalı 3 hafta kadar oldu aralıksız kullanıyorum sürekli açık durur ve ben günde yaklaşık 12 saat çok kullanırım şimdiye kadar bir problem yaşamadım ve çok memnunum almak isteyenlere tavsiye ederim'"
            ]
          },
          "metadata": {},
          "execution_count": 33
        }
      ],
      "source": [
        "tokens_to_string(X_num_tokens[800])"
      ]
    },
    {
      "cell_type": "markdown",
      "source": [
        "* pad_sequences islemi sonrasi secilen bir dokument ta token sayisinin 61 e indirgendigini ve ihmal edilebilir bir anlam kaybi oldugu goruluyor."
      ],
      "metadata": {
        "id": "83T495BeRT3j"
      }
    },
    {
      "cell_type": "markdown",
      "metadata": {
        "id": "ctqtROIxS0-2"
      },
      "source": [
        "# Modelling"
      ]
    },
    {
      "cell_type": "markdown",
      "source": [
        "* Trainin icin standart RNN ve LSTM in daha gelismis bir modeli olan ve yine bir RNN turevi olan GRU kullanacagiz.\n",
        "* RNN de bir noronin ciktisi diger noronun girdisi oluyor ve noronlarin ciktilari sirali olarak birbirini etkiliyor.\n",
        "* Cumlede kelimelerin hangi sira ile geldigi onemli hale geliyor. Kelimeyi \"hidden state\" dedigimiz hafizasinda tutuyor. Hafizasi olmasi da bunu diger modellerden bir adim one cikariyor.\n",
        "* RNN in \"Decent Gradient Vanishing/Exploding\" denilen bir dezjavantaji var. Yani, uzun documentlar geldiginde tokenlerin anlam iliskisini koruyamiyor. Cumlenin basindaki kelimelerle, sonundaki kelimeler arasinda anlam butunlugunu kaybedebiliyor. Bu nedenle LSTM ve GRU modelleri gelistirilmistir. Bunlarda aradaki unutmasi gereken onemsiz kelimeleri model unutuyor. Boylece bir cumlede bastaki onemli kelimeyle sonlara dogru var olan onemli kelime arasindaki anlamsal iliskiyi goruyor."
      ],
      "metadata": {
        "id": "JCU-SuHhS4fg"
      }
    },
    {
      "cell_type": "markdown",
      "source": [
        "![image.png](data:image/png;base64,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)"
      ],
      "metadata": {
        "id": "8FBj8edTXFoM"
      }
    },
    {
      "cell_type": "markdown",
      "source": [
        "* GRU de yeni gelen kelime update gate ile aliniyor, diger noronlardan gelen bilgilerle degerlendirilip reset gate ile unutuluyor veya tutuluyor. LSTM de bu forget gate ile yapiliyor. Bunlarda Noronlarda ANN deki gibi Relu kullanilmaz,  output layerda tanh (mavi), diger layerlarda sigmoid (kirmizi) fonksiyonu kullanilir."
      ],
      "metadata": {
        "id": "uUKLvYAlXIh8"
      }
    },
    {
      "cell_type": "markdown",
      "metadata": {
        "id": "YwTyvomlS0-2"
      },
      "source": [
        "## Train Set Split"
      ]
    },
    {
      "cell_type": "code",
      "execution_count": 34,
      "metadata": {
        "id": "-BfXWEPgS0-2"
      },
      "outputs": [],
      "source": [
        "from sklearn.model_selection import train_test_split\n",
        "X_train, X_test, y_train, y_test = train_test_split(X_pad, y, test_size=0.2, stratify=y, random_state=101)"
      ]
    },
    {
      "cell_type": "code",
      "execution_count": 35,
      "metadata": {
        "id": "l-fwXZpiS0-3"
      },
      "outputs": [],
      "source": [
        "model = Sequential()"
      ]
    },
    {
      "cell_type": "code",
      "execution_count": 36,
      "metadata": {
        "id": "3v5pGG38S0-3"
      },
      "outputs": [],
      "source": [
        "embedding_size = 100"
      ]
    },
    {
      "cell_type": "code",
      "execution_count": 37,
      "metadata": {
        "id": "Vj-ZzFqRS0-3"
      },
      "outputs": [],
      "source": [
        "model.add(Embedding(input_dim=num_words, # unique kac farkli tokenle calisacagi (15000)\n",
        "                    output_dim=embedding_size, # herbir tokenin 100luk vektore cevrilecegi\n",
        "                    input_length=max_tokens, # Her cumlenin token sayisi (61)\n",
        "                    name='embedding_layer'))"
      ]
    },
    {
      "cell_type": "markdown",
      "source": [
        "* Kelimelerin birbiriyle iliskilerini yakalamak icin her kelimeyi kelime vektorlerine ceviririz.\n",
        "* Literaturde 50lik, 100luk,300luk, 748lik vektorler kullaniliyor. Ancak bu size kalmis birsey. WordtoVec te 100luk, 300luk kullanilir.\n",
        "* Gloveda, Bertde egitilmis kelime vektorlerini de modele sokabiliyoruz. Pre-treined bir modeli kendi modelinize ithal edecekseniz, modelinizde embedding_size i pretreined modelin degerine getirmeniz gerekir. Yani eger bert ithal edecekseniz, embedding_size 748 olmali.\n",
        "* Ancak burada bir sifirdan egitimini yapacagiz. Egitim icerisinde de kelime vektorlerimizde belli bir asamaya kadar egitilecek. Tabiki bu WordtoVec, Glove ve Bert in milyarlarca kelime ile egitilmis modelleri gibi olmayacaktir."
      ],
      "metadata": {
        "id": "JLPkVIp0Zmwf"
      }
    },
    {
      "cell_type": "code",
      "execution_count": 38,
      "metadata": {
        "id": "j_fpMB8PS0-3"
      },
      "outputs": [],
      "source": [
        "# GRU bazen numpy versiyonundan kaynakli hatalar verebiliyor. O durumda numpy==1.19.5 versiyonunu kurunuz.\n",
        "# pip install -U numpy==1.19.5"
      ]
    },
    {
      "cell_type": "code",
      "execution_count": 39,
      "metadata": {
        "id": "9ijkbIMeS0-3"
      },
      "outputs": [],
      "source": [
        "model.add(GRU(units=48, return_sequences=True)) # return_sequences i True yapmazsaniz GRU hata verir. Bu diger norondan gelen bilginin sonrakine aktarimini sagliyor.\n",
        "model.add(GRU(units=24, return_sequences=True))\n",
        "model.add(GRU(units=12))\n",
        "model.add(Dense(1, activation='sigmoid'))"
      ]
    },
    {
      "cell_type": "markdown",
      "source": [
        "* Hidden layerdaki noron sayilari 48-24-12, 64-32-16, 24-12-4, 36-18-9 vs kullanilabilir. Deneyerek en iyi sonuc veren degerler kullanilir."
      ],
      "metadata": {
        "id": "sxyNdztKf5fV"
      }
    },
    {
      "cell_type": "code",
      "execution_count": 40,
      "metadata": {
        "colab": {
          "base_uri": "https://localhost:8080/",
          "height": 0
        },
        "id": "0DmSLNx6S0-3",
        "outputId": "92be2ddb-1095-45f3-9dd7-e490b3804e68"
      },
      "outputs": [
        {
          "output_type": "stream",
          "name": "stderr",
          "text": [
            "/usr/local/lib/python3.7/dist-packages/keras/optimizer_v2/adam.py:105: UserWarning: The `lr` argument is deprecated, use `learning_rate` instead.\n",
            "  super(Adam, self).__init__(name, **kwargs)\n"
          ]
        }
      ],
      "source": [
        "optimizer = Adam(lr=0.004) # learning rate default degeri 0.01 ancak deneme yanilma ile 0.04 daha iyi sonuc verdi."
      ]
    },
    {
      "cell_type": "code",
      "execution_count": 41,
      "metadata": {
        "id": "KSeSYE3RS0-3"
      },
      "outputs": [],
      "source": [
        "model.compile(loss='binary_crossentropy', # ikili siniflandirma oldugu icin binary_crossentropy seceriz.\n",
        "              optimizer=optimizer,\n",
        "              metrics=['Recall']) # Dengesiz bir veri ve ozellikle negatif yorumlari yakalamasini istiyorum, O nedenle recall sectim"
      ]
    },
    {
      "cell_type": "markdown",
      "metadata": {
        "id": "Uy9MynvUS0-4"
      },
      "source": [
        "https://stats.stackexchange.com/questions/328926/how-many-parameters-are-in-a-gated-recurrent-unit-gru-recurrent-neural-network"
      ]
    },
    {
      "cell_type": "code",
      "execution_count": 42,
      "metadata": {
        "colab": {
          "base_uri": "https://localhost:8080/",
          "height": 0
        },
        "id": "aBop7bHTS0-4",
        "outputId": "65ae9b4e-1026-4d09-aedc-0122f690501f"
      },
      "outputs": [
        {
          "output_type": "stream",
          "name": "stdout",
          "text": [
            "Model: \"sequential\"\n",
            "_________________________________________________________________\n",
            " Layer (type)                Output Shape              Param #   \n",
            "=================================================================\n",
            " embedding_layer (Embedding)  (None, 61, 100)          1500000   \n",
            "                                                                 \n",
            " gru (GRU)                   (None, 61, 48)            21600     \n",
            "                                                                 \n",
            " gru_1 (GRU)                 (None, 61, 24)            5328      \n",
            "                                                                 \n",
            " gru_2 (GRU)                 (None, 12)                1368      \n",
            "                                                                 \n",
            " dense (Dense)               (None, 1)                 13        \n",
            "                                                                 \n",
            "=================================================================\n",
            "Total params: 1,528,309\n",
            "Trainable params: 1,528,309\n",
            "Non-trainable params: 0\n",
            "_________________________________________________________________\n"
          ]
        }
      ],
      "source": [
        "model.summary() \n",
        "# 3 x (n2 + nm + 2n) m= input, n= output\n",
        "# (48*48 + 100*48 +2*48)*3 ==> m = 100, n = 48\n",
        "# (24*24 + 48*24  +2*24)*3 ==> m =  48, n = 24\n",
        "# (12*12 + 24*12  +2*12)*3 ==> m =  24, n = 12"
      ]
    },
    {
      "cell_type": "code",
      "execution_count": 43,
      "metadata": {
        "id": "kabge6glS0-4"
      },
      "outputs": [],
      "source": [
        "from tensorflow.keras.callbacks import EarlyStopping\n",
        "\n",
        "early_stop = EarlyStopping(monitor=\"val_loss\", mode=\"auto\", # mode auto oldugu icin validation loss u minimumda takip edecek. \n",
        "                           verbose=1, patience = 3, restore_best_weights=True)\n",
        "# restore_best_weights=True sayesinde early stop ile train durdugunda en son epoch sonucunu almaz, en son epocha kadar alinan en iyi val_loss degerinin oldugu epochu dikkate alir"
      ]
    },
    {
      "cell_type": "code",
      "execution_count": 44,
      "metadata": {
        "colab": {
          "base_uri": "https://localhost:8080/",
          "height": 0
        },
        "id": "IhiPYn93S0-4",
        "outputId": "603bb9be-0a68-4db9-dc64-d14389e42066"
      },
      "outputs": [
        {
          "output_type": "execute_result",
          "data": {
            "text/plain": [
              "1    0.943834\n",
              "0    0.056166\n",
              "dtype: float64"
            ]
          },
          "metadata": {},
          "execution_count": 44
        }
      ],
      "source": [
        "pd.Series(y_train).value_counts(normalize=True)"
      ]
    },
    {
      "cell_type": "markdown",
      "source": [
        "* unbalanced data oldugu icin modelde agirliklandirma yapariz. \n",
        "* Negatif yorumlara yani 0 a 95 agirlik katsayisi, Positiv yorumlara yani 1 a 5 agirlik katsayisi verdim."
      ],
      "metadata": {
        "id": "qHhih5DpjtbC"
      }
    },
    {
      "cell_type": "code",
      "execution_count": 45,
      "metadata": {
        "id": "NZix4F5jS0-4"
      },
      "outputs": [],
      "source": [
        "weights = {0:95, 1:5}"
      ]
    },
    {
      "cell_type": "markdown",
      "source": [
        "X_train, X_test, y_train, y_test in array olmasi daha hizli calismasini saglar."
      ],
      "metadata": {
        "id": "cEZpdnVtkZnl"
      }
    },
    {
      "cell_type": "code",
      "execution_count": 46,
      "metadata": {
        "colab": {
          "base_uri": "https://localhost:8080/",
          "height": 0
        },
        "id": "AOKJ8G1tS0-4",
        "outputId": "c3b99ff5-1aac-4ece-dcf6-b45af0940dc0"
      },
      "outputs": [
        {
          "output_type": "stream",
          "name": "stdout",
          "text": [
            "Epoch 1/25\n",
            "761/761 [==============================] - 216s 265ms/step - loss: 3.1925 - recall: 0.8585 - val_loss: 0.3216 - val_recall: 0.8703\n",
            "Epoch 2/25\n",
            "761/761 [==============================] - 189s 249ms/step - loss: 1.7760 - recall: 0.9304 - val_loss: 0.2073 - val_recall: 0.9278\n",
            "Epoch 3/25\n",
            "761/761 [==============================] - 186s 245ms/step - loss: 1.0832 - recall: 0.9584 - val_loss: 0.1615 - val_recall: 0.9532\n",
            "Epoch 4/25\n",
            "761/761 [==============================] - 185s 244ms/step - loss: 0.7698 - recall: 0.9726 - val_loss: 0.1914 - val_recall: 0.9458\n",
            "Epoch 5/25\n",
            "761/761 [==============================] - 187s 245ms/step - loss: 0.6218 - recall: 0.9773 - val_loss: 0.1937 - val_recall: 0.9519\n",
            "Epoch 6/25\n",
            "761/761 [==============================] - ETA: 0s - loss: 0.5089 - recall: 0.9816Restoring model weights from the end of the best epoch: 3.\n",
            "761/761 [==============================] - 187s 245ms/step - loss: 0.5089 - recall: 0.9816 - val_loss: 0.1971 - val_recall: 0.9586\n",
            "Epoch 00006: early stopping\n"
          ]
        },
        {
          "output_type": "execute_result",
          "data": {
            "text/plain": [
              "<keras.callbacks.History at 0x7f1558983ed0>"
            ]
          },
          "metadata": {},
          "execution_count": 46
        }
      ],
      "source": [
        "model.fit(X_train, y_train, epochs=25, batch_size=256, class_weight=weights,\n",
        "         validation_data=(X_test, y_test), callbacks=[early_stop])"
      ]
    },
    {
      "cell_type": "code",
      "execution_count": 47,
      "metadata": {
        "colab": {
          "base_uri": "https://localhost:8080/",
          "height": 0
        },
        "id": "wlv59NdyS0-5",
        "outputId": "34a9dcf9-d43e-421c-c53a-67cd3f03d148"
      },
      "outputs": [
        {
          "output_type": "execute_result",
          "data": {
            "text/plain": [
              "{'loss': [3.192514419555664,\n",
              "  1.7759555578231812,\n",
              "  1.0832295417785645,\n",
              "  0.7697990536689758,\n",
              "  0.6218194961547852,\n",
              "  0.508885383605957],\n",
              " 'recall': [0.8584707379341125,\n",
              "  0.9304237961769104,\n",
              "  0.9584348797798157,\n",
              "  0.9725818037986755,\n",
              "  0.9772593975067139,\n",
              "  0.9815942645072937],\n",
              " 'val_loss': [0.32156988978385925,\n",
              "  0.2073119431734085,\n",
              "  0.16147363185882568,\n",
              "  0.1913902312517166,\n",
              "  0.19369104504585266,\n",
              "  0.19710008800029755],\n",
              " 'val_recall': [0.87033611536026,\n",
              "  0.9278146624565125,\n",
              "  0.9531817436218262,\n",
              "  0.9457848072052002,\n",
              "  0.9518981575965881,\n",
              "  0.9585554003715515]}"
            ]
          },
          "metadata": {},
          "execution_count": 47
        }
      ],
      "source": [
        "model.history.history"
      ]
    },
    {
      "cell_type": "markdown",
      "metadata": {
        "id": "nZAEocSDS0-5"
      },
      "source": [
        "## Model evaluation"
      ]
    },
    {
      "cell_type": "code",
      "execution_count": 48,
      "metadata": {
        "colab": {
          "base_uri": "https://localhost:8080/",
          "height": 206
        },
        "id": "mY8TWbnpS0-5",
        "outputId": "3add6473-7ee8-410c-8f7b-40833098df9d"
      },
      "outputs": [
        {
          "output_type": "execute_result",
          "data": {
            "text/html": [
              "\n",
              "  <div id=\"df-0c381873-cc25-41ab-a330-0df5d19d9175\">\n",
              "    <div class=\"colab-df-container\">\n",
              "      <div>\n",
              "<style scoped>\n",
              "    .dataframe tbody tr th:only-of-type {\n",
              "        vertical-align: middle;\n",
              "    }\n",
              "\n",
              "    .dataframe tbody tr th {\n",
              "        vertical-align: top;\n",
              "    }\n",
              "\n",
              "    .dataframe thead th {\n",
              "        text-align: right;\n",
              "    }\n",
              "</style>\n",
              "<table border=\"1\" class=\"dataframe\">\n",
              "  <thead>\n",
              "    <tr style=\"text-align: right;\">\n",
              "      <th></th>\n",
              "      <th>loss</th>\n",
              "      <th>recall</th>\n",
              "      <th>val_loss</th>\n",
              "      <th>val_recall</th>\n",
              "    </tr>\n",
              "  </thead>\n",
              "  <tbody>\n",
              "    <tr>\n",
              "      <th>0</th>\n",
              "      <td>3.192514</td>\n",
              "      <td>0.858471</td>\n",
              "      <td>0.321570</td>\n",
              "      <td>0.870336</td>\n",
              "    </tr>\n",
              "    <tr>\n",
              "      <th>1</th>\n",
              "      <td>1.775956</td>\n",
              "      <td>0.930424</td>\n",
              "      <td>0.207312</td>\n",
              "      <td>0.927815</td>\n",
              "    </tr>\n",
              "    <tr>\n",
              "      <th>2</th>\n",
              "      <td>1.083230</td>\n",
              "      <td>0.958435</td>\n",
              "      <td>0.161474</td>\n",
              "      <td>0.953182</td>\n",
              "    </tr>\n",
              "    <tr>\n",
              "      <th>3</th>\n",
              "      <td>0.769799</td>\n",
              "      <td>0.972582</td>\n",
              "      <td>0.191390</td>\n",
              "      <td>0.945785</td>\n",
              "    </tr>\n",
              "    <tr>\n",
              "      <th>4</th>\n",
              "      <td>0.621819</td>\n",
              "      <td>0.977259</td>\n",
              "      <td>0.193691</td>\n",
              "      <td>0.951898</td>\n",
              "    </tr>\n",
              "  </tbody>\n",
              "</table>\n",
              "</div>\n",
              "      <button class=\"colab-df-convert\" onclick=\"convertToInteractive('df-0c381873-cc25-41ab-a330-0df5d19d9175')\"\n",
              "              title=\"Convert this dataframe to an interactive table.\"\n",
              "              style=\"display:none;\">\n",
              "        \n",
              "  <svg xmlns=\"http://www.w3.org/2000/svg\" height=\"24px\"viewBox=\"0 0 24 24\"\n",
              "       width=\"24px\">\n",
              "    <path d=\"M0 0h24v24H0V0z\" fill=\"none\"/>\n",
              "    <path d=\"M18.56 5.44l.94 2.06.94-2.06 2.06-.94-2.06-.94-.94-2.06-.94 2.06-2.06.94zm-11 1L8.5 8.5l.94-2.06 2.06-.94-2.06-.94L8.5 2.5l-.94 2.06-2.06.94zm10 10l.94 2.06.94-2.06 2.06-.94-2.06-.94-.94-2.06-.94 2.06-2.06.94z\"/><path d=\"M17.41 7.96l-1.37-1.37c-.4-.4-.92-.59-1.43-.59-.52 0-1.04.2-1.43.59L10.3 9.45l-7.72 7.72c-.78.78-.78 2.05 0 2.83L4 21.41c.39.39.9.59 1.41.59.51 0 1.02-.2 1.41-.59l7.78-7.78 2.81-2.81c.8-.78.8-2.07 0-2.86zM5.41 20L4 18.59l7.72-7.72 1.47 1.35L5.41 20z\"/>\n",
              "  </svg>\n",
              "      </button>\n",
              "      \n",
              "  <style>\n",
              "    .colab-df-container {\n",
              "      display:flex;\n",
              "      flex-wrap:wrap;\n",
              "      gap: 12px;\n",
              "    }\n",
              "\n",
              "    .colab-df-convert {\n",
              "      background-color: #E8F0FE;\n",
              "      border: none;\n",
              "      border-radius: 50%;\n",
              "      cursor: pointer;\n",
              "      display: none;\n",
              "      fill: #1967D2;\n",
              "      height: 32px;\n",
              "      padding: 0 0 0 0;\n",
              "      width: 32px;\n",
              "    }\n",
              "\n",
              "    .colab-df-convert:hover {\n",
              "      background-color: #E2EBFA;\n",
              "      box-shadow: 0px 1px 2px rgba(60, 64, 67, 0.3), 0px 1px 3px 1px rgba(60, 64, 67, 0.15);\n",
              "      fill: #174EA6;\n",
              "    }\n",
              "\n",
              "    [theme=dark] .colab-df-convert {\n",
              "      background-color: #3B4455;\n",
              "      fill: #D2E3FC;\n",
              "    }\n",
              "\n",
              "    [theme=dark] .colab-df-convert:hover {\n",
              "      background-color: #434B5C;\n",
              "      box-shadow: 0px 1px 3px 1px rgba(0, 0, 0, 0.15);\n",
              "      filter: drop-shadow(0px 1px 2px rgba(0, 0, 0, 0.3));\n",
              "      fill: #FFFFFF;\n",
              "    }\n",
              "  </style>\n",
              "\n",
              "      <script>\n",
              "        const buttonEl =\n",
              "          document.querySelector('#df-0c381873-cc25-41ab-a330-0df5d19d9175 button.colab-df-convert');\n",
              "        buttonEl.style.display =\n",
              "          google.colab.kernel.accessAllowed ? 'block' : 'none';\n",
              "\n",
              "        async function convertToInteractive(key) {\n",
              "          const element = document.querySelector('#df-0c381873-cc25-41ab-a330-0df5d19d9175');\n",
              "          const dataTable =\n",
              "            await google.colab.kernel.invokeFunction('convertToInteractive',\n",
              "                                                     [key], {});\n",
              "          if (!dataTable) return;\n",
              "\n",
              "          const docLinkHtml = 'Like what you see? Visit the ' +\n",
              "            '<a target=\"_blank\" href=https://colab.research.google.com/notebooks/data_table.ipynb>data table notebook</a>'\n",
              "            + ' to learn more about interactive tables.';\n",
              "          element.innerHTML = '';\n",
              "          dataTable['output_type'] = 'display_data';\n",
              "          await google.colab.output.renderOutput(dataTable, element);\n",
              "          const docLink = document.createElement('div');\n",
              "          docLink.innerHTML = docLinkHtml;\n",
              "          element.appendChild(docLink);\n",
              "        }\n",
              "      </script>\n",
              "    </div>\n",
              "  </div>\n",
              "  "
            ],
            "text/plain": [
              "       loss    recall  val_loss  val_recall\n",
              "0  3.192514  0.858471  0.321570    0.870336\n",
              "1  1.775956  0.930424  0.207312    0.927815\n",
              "2  1.083230  0.958435  0.161474    0.953182\n",
              "3  0.769799  0.972582  0.191390    0.945785\n",
              "4  0.621819  0.977259  0.193691    0.951898"
            ]
          },
          "metadata": {},
          "execution_count": 48
        }
      ],
      "source": [
        "model_loss = pd.DataFrame(model.history.history)\n",
        "model_loss.head()"
      ]
    },
    {
      "cell_type": "code",
      "execution_count": 49,
      "metadata": {
        "colab": {
          "base_uri": "https://localhost:8080/",
          "height": 282
        },
        "id": "QKVDnOLdS0-5",
        "outputId": "dff8b54f-f713-4e1a-d10f-18dc2ea6dad6"
      },
      "outputs": [
        {
          "output_type": "execute_result",
          "data": {
            "text/plain": [
              "<matplotlib.axes._subplots.AxesSubplot at 0x7f154f3772d0>"
            ]
          },
          "metadata": {},
          "execution_count": 49
        },
        {
          "output_type": "display_data",
          "data": {
            "image/png": "[encoded data removed]",
            "text/plain": [
              "<Figure size 432x288 with 1 Axes>"
            ]
          },
          "metadata": {
            "needs_background": "light"
          }
        }
      ],
      "source": [
        "model_loss.plot()"
      ]
    },
    {
      "cell_type": "code",
      "execution_count": 50,
      "metadata": {
        "colab": {
          "base_uri": "https://localhost:8080/",
          "height": 0
        },
        "id": "sruLQTnWS0-6",
        "outputId": "8c14684e-2dfe-4001-b3dd-fc51ac7764d2"
      },
      "outputs": [
        {
          "output_type": "stream",
          "name": "stdout",
          "text": [
            "6088/6088 [==============================] - 125s 21ms/step - loss: 0.0789 - recall: 0.9726\n"
          ]
        },
        {
          "output_type": "execute_result",
          "data": {
            "text/plain": [
              "[0.07894916832447052, 0.9726144671440125]"
            ]
          },
          "metadata": {},
          "execution_count": 50
        }
      ],
      "source": [
        "model.evaluate(X_train, y_train)"
      ]
    },
    {
      "cell_type": "code",
      "execution_count": 51,
      "metadata": {
        "colab": {
          "base_uri": "https://localhost:8080/",
          "height": 0
        },
        "id": "bP2BoURYS0-6",
        "outputId": "6b79926c-3f01-4bfc-bc7d-181fb03ae73f"
      },
      "outputs": [
        {
          "output_type": "stream",
          "name": "stdout",
          "text": [
            "1522/1522 [==============================] - 31s 20ms/step - loss: 0.1615 - recall: 0.9532\n"
          ]
        },
        {
          "output_type": "execute_result",
          "data": {
            "text/plain": [
              "[0.16147363185882568, 0.9531817436218262]"
            ]
          },
          "metadata": {},
          "execution_count": 51
        }
      ],
      "source": [
        "model.evaluate(X_test, y_test)"
      ]
    },
    {
      "cell_type": "code",
      "source": [
        "y_train_pred = model.predict(X_train)\n",
        "y_train_pred"
      ],
      "metadata": {
        "colab": {
          "base_uri": "https://localhost:8080/",
          "height": 0
        },
        "id": "FOVyulohnL58",
        "outputId": "e931e70c-8ac5-4f31-f580-7579ba7a866c"
      },
      "execution_count": 52,
      "outputs": [
        {
          "output_type": "execute_result",
          "data": {
            "text/plain": [
              "array([[0.9932843 ],\n",
              "       [0.9946729 ],\n",
              "       [0.97064775],\n",
              "       ...,\n",
              "       [0.99525344],\n",
              "       [0.99543226],\n",
              "       [0.00556517]], dtype=float32)"
            ]
          },
          "metadata": {},
          "execution_count": 52
        }
      ]
    },
    {
      "cell_type": "markdown",
      "source": [
        "* GRU tahminlemeyi predict_proba gibi yapar. Bizim onu 1 ve 0 a donusturmemiz gerekir."
      ],
      "metadata": {
        "id": "VynnABlynSTq"
      }
    },
    {
      "cell_type": "code",
      "execution_count": 53,
      "metadata": {
        "colab": {
          "base_uri": "https://localhost:8080/",
          "height": 0
        },
        "id": "9YoncrVQS0-6",
        "outputId": "2688ee31-19d0-471f-fd7d-ce141cf42f4f"
      },
      "outputs": [
        {
          "output_type": "stream",
          "name": "stdout",
          "text": [
            "[[ 10788    153]\n",
            " [  5035 178821]]\n",
            "-------------------------------------------------------\n",
            "              precision    recall  f1-score   support\n",
            "\n",
            "           0       0.68      0.99      0.81     10941\n",
            "           1       1.00      0.97      0.99    183856\n",
            "\n",
            "    accuracy                           0.97    194797\n",
            "   macro avg       0.84      0.98      0.90    194797\n",
            "weighted avg       0.98      0.97      0.98    194797\n",
            "\n"
          ]
        }
      ],
      "source": [
        "from sklearn.metrics import confusion_matrix, classification_report, accuracy_score, f1_score, roc_auc_score\n",
        "\n",
        "y_train_pred = (model.predict(X_train) >= 0.5).astype(\"int32\")\n",
        "\n",
        "print(confusion_matrix(y_train, y_train_pred))\n",
        "print(\"-------------------------------------------------------\")\n",
        "print(classification_report(y_train, y_train_pred))"
      ]
    },
    {
      "cell_type": "code",
      "execution_count": 54,
      "metadata": {
        "colab": {
          "base_uri": "https://localhost:8080/",
          "height": 0
        },
        "id": "hJ0JVsoiS0-6",
        "outputId": "49e25cc6-a81d-44ea-a248-13827e4f3e7e"
      },
      "outputs": [
        {
          "output_type": "stream",
          "name": "stdout",
          "text": [
            "[[ 2127   608]\n",
            " [ 2152 43813]]\n",
            "-------------------------------------------------------\n",
            "              precision    recall  f1-score   support\n",
            "\n",
            "           0       0.50      0.78      0.61      2735\n",
            "           1       0.99      0.95      0.97     45965\n",
            "\n",
            "    accuracy                           0.94     48700\n",
            "   macro avg       0.74      0.87      0.79     48700\n",
            "weighted avg       0.96      0.94      0.95     48700\n",
            "\n"
          ]
        }
      ],
      "source": [
        "y_pred = (model.predict(X_test) >= 0.5).astype(\"int32\")\n",
        "\n",
        "print(confusion_matrix(y_test, y_pred))\n",
        "print(\"-------------------------------------------------------\")\n",
        "print(classification_report(y_test, y_pred))"
      ]
    },
    {
      "cell_type": "code",
      "execution_count": 55,
      "metadata": {
        "colab": {
          "base_uri": "https://localhost:8080/",
          "height": 0
        },
        "id": "pXSqzK5kS0-6",
        "outputId": "e4ec68e3-3a9c-47d6-fa46-57b9c85ba44a"
      },
      "outputs": [
        {
          "output_type": "execute_result",
          "data": {
            "text/plain": [
              "array([1, 1, 1, ..., 1, 1, 1])"
            ]
          },
          "metadata": {},
          "execution_count": 55
        }
      ],
      "source": [
        "y_test"
      ]
    },
    {
      "cell_type": "code",
      "execution_count": 56,
      "metadata": {
        "colab": {
          "base_uri": "https://localhost:8080/",
          "height": 0
        },
        "id": "3DGYUkbcS0-7",
        "outputId": "22cdfab0-e000-4e65-9c03-16b32f6968f7"
      },
      "outputs": [
        {
          "output_type": "execute_result",
          "data": {
            "text/plain": [
              "array([[1],\n",
              "       [1],\n",
              "       [1],\n",
              "       ...,\n",
              "       [1],\n",
              "       [1],\n",
              "       [1]], dtype=int32)"
            ]
          },
          "metadata": {},
          "execution_count": 56
        }
      ],
      "source": [
        "y_pred"
      ]
    },
    {
      "cell_type": "code",
      "execution_count": 57,
      "metadata": {
        "colab": {
          "base_uri": "https://localhost:8080/",
          "height": 0
        },
        "id": "6ZGcRnIFS0-7",
        "outputId": "075b9767-1f1d-48a5-bf33-4904091d49b5"
      },
      "outputs": [
        {
          "output_type": "execute_result",
          "data": {
            "text/plain": [
              "array([1, 1, 1, ..., 1, 1, 1], dtype=int32)"
            ]
          },
          "metadata": {},
          "execution_count": 57
        }
      ],
      "source": [
        "y_pred2 = np.array([i[0] for i in y_pred])\n",
        "y_pred2"
      ]
    },
    {
      "cell_type": "code",
      "execution_count": 58,
      "metadata": {
        "colab": {
          "base_uri": "https://localhost:8080/",
          "height": 0
        },
        "id": "lC2EWIZmS0-7",
        "outputId": "3efb117d-3fdc-4e0c-fdae-9d873910cc1a"
      },
      "outputs": [
        {
          "output_type": "execute_result",
          "data": {
            "text/plain": [
              "(array([   10,    37,    38, ..., 48622, 48678, 48688]),)"
            ]
          },
          "metadata": {},
          "execution_count": 58
        }
      ],
      "source": [
        "incorrect = np.where(y_test != y_pred2)\n",
        "incorrect"
      ]
    },
    {
      "cell_type": "code",
      "execution_count": 59,
      "metadata": {
        "colab": {
          "base_uri": "https://localhost:8080/",
          "height": 0
        },
        "id": "EzBYkNmVS0-7",
        "outputId": "fbd3913a-6c49-49eb-e388-06b7e0f3f3c9"
      },
      "outputs": [
        {
          "output_type": "execute_result",
          "data": {
            "text/plain": [
              "1"
            ]
          },
          "metadata": {},
          "execution_count": 59
        }
      ],
      "source": [
        "len(incorrect)"
      ]
    },
    {
      "cell_type": "code",
      "execution_count": 60,
      "metadata": {
        "colab": {
          "base_uri": "https://localhost:8080/",
          "height": 0
        },
        "id": "Xgb3d-EDS0-7",
        "outputId": "0c1212a1-5c85-40e0-8f82-9eaebf6fe73f"
      },
      "outputs": [
        {
          "output_type": "execute_result",
          "data": {
            "text/plain": [
              "10"
            ]
          },
          "metadata": {},
          "execution_count": 60
        }
      ],
      "source": [
        "idx = incorrect[0][0]\n",
        "idx"
      ]
    },
    {
      "cell_type": "code",
      "execution_count": 61,
      "metadata": {
        "colab": {
          "base_uri": "https://localhost:8080/",
          "height": 0
        },
        "id": "e8bbIztRS0-8",
        "outputId": "617ea73e-120d-4330-ec7a-ba8ff04ae9fd"
      },
      "outputs": [
        {
          "output_type": "execute_result",
          "data": {
            "text/plain": [
              "array([   0,    0,    0,    0,    0,    0,    0,    0,    0,    0,    0,\n",
              "          0,    0,    0,    0,    0,    0,    0,  891,  327,  171, 1491,\n",
              "         84,  456,   31,  171,  466,   74,   84,   54,  266,  241, 1158,\n",
              "       1917,   52,  371,  327,  171, 2979,   13,   65,  371,   84,  129,\n",
              "        361,   84, 1917, 3536,   72,    2,  208,  360,   34,    5,    4,\n",
              "       1906,  120, 2498,  132,    1, 2893], dtype=int32)"
            ]
          },
          "metadata": {},
          "execution_count": 61
        }
      ],
      "source": [
        "text = X_test[idx]\n",
        "text"
      ]
    },
    {
      "cell_type": "code",
      "execution_count": 62,
      "metadata": {
        "colab": {
          "base_uri": "https://localhost:8080/",
          "height": 53
        },
        "id": "IBF-qhHjS0-8",
        "outputId": "8bdd9020-29e2-494d-971e-c03f0934e583"
      },
      "outputs": [
        {
          "output_type": "execute_result",
          "data": {
            "application/vnd.google.colaboratory.intrinsic+json": {
              "type": "string"
            },
            "text/plain": [
              "'xiaomi mi 6 nın şarj cihazı ile 6 saatte tam şarj oldu iphone 7 plus ı 3 kere mi 6 yı da 5 kere şarj ettim hala şarj ı bitmedi uzun bir kullanım süresi var bu ürün varken başka powerbank almak çok saçma'"
            ]
          },
          "metadata": {},
          "execution_count": 62
        }
      ],
      "source": [
        "tokens_to_string(text)"
      ]
    },
    {
      "cell_type": "code",
      "execution_count": 63,
      "metadata": {
        "colab": {
          "base_uri": "https://localhost:8080/",
          "height": 0
        },
        "id": "yfiFZgK0S0-8",
        "outputId": "1526381a-8713-4c44-ab33-e4afd2f8d4fc"
      },
      "outputs": [
        {
          "output_type": "execute_result",
          "data": {
            "text/plain": [
              "array([0], dtype=int32)"
            ]
          },
          "metadata": {},
          "execution_count": 63
        }
      ],
      "source": [
        "y_pred[idx]"
      ]
    },
    {
      "cell_type": "code",
      "execution_count": 64,
      "metadata": {
        "colab": {
          "base_uri": "https://localhost:8080/",
          "height": 0
        },
        "id": "Zu9AYD4cS0-8",
        "outputId": "02098f73-7b7c-4245-91ec-068e40e940c7"
      },
      "outputs": [
        {
          "output_type": "execute_result",
          "data": {
            "text/plain": [
              "1"
            ]
          },
          "metadata": {},
          "execution_count": 64
        }
      ],
      "source": [
        "y_test[idx]"
      ]
    },
    {
      "cell_type": "code",
      "execution_count": 65,
      "metadata": {
        "id": "2gfZyGSJS0-8"
      },
      "outputs": [],
      "source": [
        "y_pr = model.predict(X_test)"
      ]
    },
    {
      "cell_type": "code",
      "execution_count": 66,
      "metadata": {
        "colab": {
          "base_uri": "https://localhost:8080/",
          "height": 0
        },
        "id": "AlvJL0hvS0-8",
        "outputId": "fa94c72c-2596-45bf-cd19-4aaf614a4680"
      },
      "outputs": [
        {
          "output_type": "execute_result",
          "data": {
            "text/plain": [
              "array([0.16058668], dtype=float32)"
            ]
          },
          "metadata": {},
          "execution_count": 66
        }
      ],
      "source": [
        "y_pr[idx]"
      ]
    },
    {
      "cell_type": "markdown",
      "metadata": {
        "id": "D1N9gH5SS0-8"
      },
      "source": [
        "## Predicton"
      ]
    },
    {
      "cell_type": "code",
      "execution_count": 75,
      "metadata": {
        "id": "efAXxR53S0-8"
      },
      "outputs": [],
      "source": [
        "# Positive Commends\n",
        "review1 = \"çok beğendim herkese tavsiye ederim\"\n",
        "review2 = \"süper bir ürün. kargo da hızlı.\"\n",
        "review3 = \"kelimelerle tarif edilemez\"\n",
        "review4 = \"kötü yorumlar gözümü korkutmuştu ancak hiçbir sorun yaşamadım teşekkürler\"\n",
        "review5 = \"tam bir fiyat performans ürünü\"\n",
        "review6 = \"on numara beş yıldız\"\n",
        "review7 = \"bu kargoyu biran önce bırakın. yoksa üründe sıkıntı yok\"\n",
        "review8 = '1 gün gibi kısa bir sürede elime geçti. Ve bu fiyata süper bir ürün tavsiye ederim. Lakin eli büyük olan kişiler daha büyük modelini tercih edebilirler ortaboy ürün. Teşekkürler '\n",
        "review9 = \"kaliteli bir ürün, memnun kaldım.\"\n",
        "review10 = \"beklentimi düşük tutmuştum ama kalitesiyle beni şaşırttı.\"\n",
        "\n",
        "# Negative Commends\n",
        "review11 = \"büyük bir hayal kırıklığı yaşadım bu ürünü bu markaya yakıştıramadım\"\n",
        "review12 = \"tasarımı harika ancak kargo çok geç geldi ve ürün açılmıştı hayal kırıklığı gerçekten\"\n",
        "review13 = \"hiç resimde gösterildiği gibi değil\"\n",
        "review14 = \"ürün arızalı, siparişimi iptal edeceğim. :(\"\n",
        "review15 = \"beklediğim gibi çıkmadı\"\n",
        "review16 = \"dün akşam evde arkadaşlarla toplandık. yedik, içtik, sohbet ettik. Sonra televizyonda Türkiye - İngiltere maçını seyrettik. Ancak, maç zehir oldu resmen televizyonun görüntü kalitesi çok kötü\"\n",
        "review17 = \"çok kalitesiz bir ürün sakın almayın\"\n",
        "review18 = \"verdiğim paraya yazık oldu, beklentilerimi karşılamadı\"\n",
        "review19 = \"Fena değil ama bu fiyata çok daha iyi ürünler alabilirsiniz.\"\n",
        "review20 = \"Eh işte idare eder,çok beklentiye girmeyin.\"\n",
        "\n",
        "\n",
        "reviews = [review1, review2, review3, review4, review5, review6, review7, review8, review9, review10, \n",
        "           review11, review12, review13, review14, review15, review16,review17,review18,review19,review20]"
      ]
    },
    {
      "cell_type": "code",
      "execution_count": 76,
      "metadata": {
        "id": "HL3SW9R4S0-9"
      },
      "outputs": [],
      "source": [
        "tokens = tokenizer.texts_to_sequences(reviews)"
      ]
    },
    {
      "cell_type": "code",
      "execution_count": 77,
      "metadata": {
        "colab": {
          "base_uri": "https://localhost:8080/",
          "height": 0
        },
        "id": "RushyErqS0-9",
        "outputId": "65c15417-a45c-4f5d-8fbe-5ecfc487a22b"
      },
      "outputs": [
        {
          "output_type": "execute_result",
          "data": {
            "text/plain": [
              "(20, 61)"
            ]
          },
          "metadata": {},
          "execution_count": 77
        }
      ],
      "source": [
        "tokens_pad = pad_sequences(tokens, maxlen=max_tokens)\n",
        "tokens_pad.shape"
      ]
    },
    {
      "cell_type": "code",
      "execution_count": 78,
      "metadata": {
        "colab": {
          "base_uri": "https://localhost:8080/",
          "height": 0
        },
        "id": "DSdBGqYtS0-9",
        "outputId": "ec190284-3e6d-44d5-cc5d-dd85cda89a3e"
      },
      "outputs": [
        {
          "output_type": "execute_result",
          "data": {
            "text/plain": [
              "array([[0.98141694],\n",
              "       [0.9932368 ],\n",
              "       [0.95019245],\n",
              "       [0.90047455],\n",
              "       [0.9881648 ],\n",
              "       [0.97785336],\n",
              "       [0.6828579 ],\n",
              "       [0.99522   ],\n",
              "       [0.9884024 ],\n",
              "       [0.13885659],\n",
              "       [0.0035947 ],\n",
              "       [0.06332439],\n",
              "       [0.00862259],\n",
              "       [0.00416076],\n",
              "       [0.00845224],\n",
              "       [0.01150987],\n",
              "       [0.00315389],\n",
              "       [0.00375402],\n",
              "       [0.5897295 ],\n",
              "       [0.01957875]], dtype=float32)"
            ]
          },
          "metadata": {},
          "execution_count": 78
        }
      ],
      "source": [
        "model.predict(tokens_pad)"
      ]
    },
    {
      "cell_type": "markdown",
      "source": [
        "* Metaforik, mecazi anlatimlari NLP modellerinin dogru analiz etme orani dusuktur."
      ],
      "metadata": {
        "id": "viM8iOc36knY"
      }
    },
    {
      "cell_type": "code",
      "source": [
        "pd.set_option('max_colwidth', 300)"
      ],
      "metadata": {
        "id": "_NfpSn92BTNJ"
      },
      "execution_count": 111,
      "outputs": []
    },
    {
      "cell_type": "code",
      "source": [
        "rating = model.predict(tokens_pad) \n",
        "pd.DataFrame(zip(reviews, np.array([i[0] for i in rating])), columns=['reviews', 'rating'])"
      ],
      "metadata": {
        "colab": {
          "base_uri": "https://localhost:8080/",
          "height": 677
        },
        "id": "3IxpoPeD6zAD",
        "outputId": "cd80a3b8-2842-4291-ff45-1f5baadd16c3"
      },
      "execution_count": 112,
      "outputs": [
        {
          "output_type": "execute_result",
          "data": {
            "text/html": [
              "\n",
              "  <div id=\"df-8fc27ec3-5fa9-40dd-ab26-57b35c26e737\">\n",
              "    <div class=\"colab-df-container\">\n",
              "      <div>\n",
              "<style scoped>\n",
              "    .dataframe tbody tr th:only-of-type {\n",
              "        vertical-align: middle;\n",
              "    }\n",
              "\n",
              "    .dataframe tbody tr th {\n",
              "        vertical-align: top;\n",
              "    }\n",
              "\n",
              "    .dataframe thead th {\n",
              "        text-align: right;\n",
              "    }\n",
              "</style>\n",
              "<table border=\"1\" class=\"dataframe\">\n",
              "  <thead>\n",
              "    <tr style=\"text-align: right;\">\n",
              "      <th></th>\n",
              "      <th>reviews</th>\n",
              "      <th>rating</th>\n",
              "    </tr>\n",
              "  </thead>\n",
              "  <tbody>\n",
              "    <tr>\n",
              "      <th>0</th>\n",
              "      <td>çok beğendim herkese tavsiye ederim</td>\n",
              "      <td>0.981417</td>\n",
              "    </tr>\n",
              "    <tr>\n",
              "      <th>1</th>\n",
              "      <td>süper bir ürün. kargo da hızlı.</td>\n",
              "      <td>0.993237</td>\n",
              "    </tr>\n",
              "    <tr>\n",
              "      <th>2</th>\n",
              "      <td>kelimelerle tarif edilemez</td>\n",
              "      <td>0.950192</td>\n",
              "    </tr>\n",
              "    <tr>\n",
              "      <th>3</th>\n",
              "      <td>kötü yorumlar gözümü korkutmuştu ancak hiçbir sorun yaşamadım teşekkürler</td>\n",
              "      <td>0.900475</td>\n",
              "    </tr>\n",
              "    <tr>\n",
              "      <th>4</th>\n",
              "      <td>tam bir fiyat performans ürünü</td>\n",
              "      <td>0.988165</td>\n",
              "    </tr>\n",
              "    <tr>\n",
              "      <th>5</th>\n",
              "      <td>on numara beş yıldız</td>\n",
              "      <td>0.977853</td>\n",
              "    </tr>\n",
              "    <tr>\n",
              "      <th>6</th>\n",
              "      <td>bu kargoyu biran önce bırakın. yoksa üründe sıkıntı yok</td>\n",
              "      <td>0.682858</td>\n",
              "    </tr>\n",
              "    <tr>\n",
              "      <th>7</th>\n",
              "      <td>1 gün gibi kısa bir sürede elime geçti. Ve bu fiyata süper bir ürün tavsiye ederim. Lakin eli büyük olan kişiler daha büyük modelini tercih edebilirler ortaboy ürün. Teşekkürler</td>\n",
              "      <td>0.995220</td>\n",
              "    </tr>\n",
              "    <tr>\n",
              "      <th>8</th>\n",
              "      <td>kaliteli bir ürün, memnun kaldım.</td>\n",
              "      <td>0.988402</td>\n",
              "    </tr>\n",
              "    <tr>\n",
              "      <th>9</th>\n",
              "      <td>beklentimi düşük tutmuştum ama kalitesiyle beni şaşırttı.</td>\n",
              "      <td>0.138857</td>\n",
              "    </tr>\n",
              "    <tr>\n",
              "      <th>10</th>\n",
              "      <td>büyük bir hayal kırıklığı yaşadım bu ürünü bu markaya yakıştıramadım</td>\n",
              "      <td>0.003595</td>\n",
              "    </tr>\n",
              "    <tr>\n",
              "      <th>11</th>\n",
              "      <td>tasarımı harika ancak kargo çok geç geldi ve ürün açılmıştı hayal kırıklığı gerçekten</td>\n",
              "      <td>0.063324</td>\n",
              "    </tr>\n",
              "    <tr>\n",
              "      <th>12</th>\n",
              "      <td>hiç resimde gösterildiği gibi değil</td>\n",
              "      <td>0.008623</td>\n",
              "    </tr>\n",
              "    <tr>\n",
              "      <th>13</th>\n",
              "      <td>ürün arızalı, siparişimi iptal edeceğim. :(</td>\n",
              "      <td>0.004161</td>\n",
              "    </tr>\n",
              "    <tr>\n",
              "      <th>14</th>\n",
              "      <td>beklediğim gibi çıkmadı</td>\n",
              "      <td>0.008452</td>\n",
              "    </tr>\n",
              "    <tr>\n",
              "      <th>15</th>\n",
              "      <td>dün akşam evde arkadaşlarla toplandık. yedik, içtik, sohbet ettik. Sonra televizyonda Türkiye - İngiltere maçını seyrettik. Ancak, maç zehir oldu resmen televizyonun görüntü kalitesi çok kötü</td>\n",
              "      <td>0.011510</td>\n",
              "    </tr>\n",
              "    <tr>\n",
              "      <th>16</th>\n",
              "      <td>çok kalitesiz bir ürün sakın almayın</td>\n",
              "      <td>0.003154</td>\n",
              "    </tr>\n",
              "    <tr>\n",
              "      <th>17</th>\n",
              "      <td>verdiğim paraya yazık oldu, beklentilerimi karşılamadı</td>\n",
              "      <td>0.003754</td>\n",
              "    </tr>\n",
              "    <tr>\n",
              "      <th>18</th>\n",
              "      <td>Fena değil ama bu fiyata çok daha iyi ürünler alabilirsiniz.</td>\n",
              "      <td>0.589729</td>\n",
              "    </tr>\n",
              "    <tr>\n",
              "      <th>19</th>\n",
              "      <td>Eh işte idare eder,çok beklentiye girmeyin.</td>\n",
              "      <td>0.019579</td>\n",
              "    </tr>\n",
              "  </tbody>\n",
              "</table>\n",
              "</div>\n",
              "      <button class=\"colab-df-convert\" onclick=\"convertToInteractive('df-8fc27ec3-5fa9-40dd-ab26-57b35c26e737')\"\n",
              "              title=\"Convert this dataframe to an interactive table.\"\n",
              "              style=\"display:none;\">\n",
              "        \n",
              "  <svg xmlns=\"http://www.w3.org/2000/svg\" height=\"24px\"viewBox=\"0 0 24 24\"\n",
              "       width=\"24px\">\n",
              "    <path d=\"M0 0h24v24H0V0z\" fill=\"none\"/>\n",
              "    <path d=\"M18.56 5.44l.94 2.06.94-2.06 2.06-.94-2.06-.94-.94-2.06-.94 2.06-2.06.94zm-11 1L8.5 8.5l.94-2.06 2.06-.94-2.06-.94L8.5 2.5l-.94 2.06-2.06.94zm10 10l.94 2.06.94-2.06 2.06-.94-2.06-.94-.94-2.06-.94 2.06-2.06.94z\"/><path d=\"M17.41 7.96l-1.37-1.37c-.4-.4-.92-.59-1.43-.59-.52 0-1.04.2-1.43.59L10.3 9.45l-7.72 7.72c-.78.78-.78 2.05 0 2.83L4 21.41c.39.39.9.59 1.41.59.51 0 1.02-.2 1.41-.59l7.78-7.78 2.81-2.81c.8-.78.8-2.07 0-2.86zM5.41 20L4 18.59l7.72-7.72 1.47 1.35L5.41 20z\"/>\n",
              "  </svg>\n",
              "      </button>\n",
              "      \n",
              "  <style>\n",
              "    .colab-df-container {\n",
              "      display:flex;\n",
              "      flex-wrap:wrap;\n",
              "      gap: 12px;\n",
              "    }\n",
              "\n",
              "    .colab-df-convert {\n",
              "      background-color: #E8F0FE;\n",
              "      border: none;\n",
              "      border-radius: 50%;\n",
              "      cursor: pointer;\n",
              "      display: none;\n",
              "      fill: #1967D2;\n",
              "      height: 32px;\n",
              "      padding: 0 0 0 0;\n",
              "      width: 32px;\n",
              "    }\n",
              "\n",
              "    .colab-df-convert:hover {\n",
              "      background-color: #E2EBFA;\n",
              "      box-shadow: 0px 1px 2px rgba(60, 64, 67, 0.3), 0px 1px 3px 1px rgba(60, 64, 67, 0.15);\n",
              "      fill: #174EA6;\n",
              "    }\n",
              "\n",
              "    [theme=dark] .colab-df-convert {\n",
              "      background-color: #3B4455;\n",
              "      fill: #D2E3FC;\n",
              "    }\n",
              "\n",
              "    [theme=dark] .colab-df-convert:hover {\n",
              "      background-color: #434B5C;\n",
              "      box-shadow: 0px 1px 3px 1px rgba(0, 0, 0, 0.15);\n",
              "      filter: drop-shadow(0px 1px 2px rgba(0, 0, 0, 0.3));\n",
              "      fill: #FFFFFF;\n",
              "    }\n",
              "  </style>\n",
              "\n",
              "      <script>\n",
              "        const buttonEl =\n",
              "          document.querySelector('#df-8fc27ec3-5fa9-40dd-ab26-57b35c26e737 button.colab-df-convert');\n",
              "        buttonEl.style.display =\n",
              "          google.colab.kernel.accessAllowed ? 'block' : 'none';\n",
              "\n",
              "        async function convertToInteractive(key) {\n",
              "          const element = document.querySelector('#df-8fc27ec3-5fa9-40dd-ab26-57b35c26e737');\n",
              "          const dataTable =\n",
              "            await google.colab.kernel.invokeFunction('convertToInteractive',\n",
              "                                                     [key], {});\n",
              "          if (!dataTable) return;\n",
              "\n",
              "          const docLinkHtml = 'Like what you see? Visit the ' +\n",
              "            '<a target=\"_blank\" href=https://colab.research.google.com/notebooks/data_table.ipynb>data table notebook</a>'\n",
              "            + ' to learn more about interactive tables.';\n",
              "          element.innerHTML = '';\n",
              "          dataTable['output_type'] = 'display_data';\n",
              "          await google.colab.output.renderOutput(dataTable, element);\n",
              "          const docLink = document.createElement('div');\n",
              "          docLink.innerHTML = docLinkHtml;\n",
              "          element.appendChild(docLink);\n",
              "        }\n",
              "      </script>\n",
              "    </div>\n",
              "  </div>\n",
              "  "
            ],
            "text/plain": [
              "                                                                                                                                                                                            reviews    rating\n",
              "0                                                                                                                                                               çok beğendim herkese tavsiye ederim  0.981417\n",
              "1                                                                                                                                                                   süper bir ürün. kargo da hızlı.  0.993237\n",
              "2                                                                                                                                                                        kelimelerle tarif edilemez  0.950192\n",
              "3                                                                                                                         kötü yorumlar gözümü korkutmuştu ancak hiçbir sorun yaşamadım teşekkürler  0.900475\n",
              "4                                                                                                                                                                    tam bir fiyat performans ürünü  0.988165\n",
              "5                                                                                                                                                                              on numara beş yıldız  0.977853\n",
              "6                                                                                                                                           bu kargoyu biran önce bırakın. yoksa üründe sıkıntı yok  0.682858\n",
              "7                1 gün gibi kısa bir sürede elime geçti. Ve bu fiyata süper bir ürün tavsiye ederim. Lakin eli büyük olan kişiler daha büyük modelini tercih edebilirler ortaboy ürün. Teşekkürler   0.995220\n",
              "8                                                                                                                                                                 kaliteli bir ürün, memnun kaldım.  0.988402\n",
              "9                                                                                                                                         beklentimi düşük tutmuştum ama kalitesiyle beni şaşırttı.  0.138857\n",
              "10                                                                                                                             büyük bir hayal kırıklığı yaşadım bu ürünü bu markaya yakıştıramadım  0.003595\n",
              "11                                                                                                            tasarımı harika ancak kargo çok geç geldi ve ürün açılmıştı hayal kırıklığı gerçekten  0.063324\n",
              "12                                                                                                                                                              hiç resimde gösterildiği gibi değil  0.008623\n",
              "13                                                                                                                                                      ürün arızalı, siparişimi iptal edeceğim. :(  0.004161\n",
              "14                                                                                                                                                                          beklediğim gibi çıkmadı  0.008452\n",
              "15  dün akşam evde arkadaşlarla toplandık. yedik, içtik, sohbet ettik. Sonra televizyonda Türkiye - İngiltere maçını seyrettik. Ancak, maç zehir oldu resmen televizyonun görüntü kalitesi çok kötü  0.011510\n",
              "16                                                                                                                                                             çok kalitesiz bir ürün sakın almayın  0.003154\n",
              "17                                                                                                                                           verdiğim paraya yazık oldu, beklentilerimi karşılamadı  0.003754\n",
              "18                                                                                                                                     Fena değil ama bu fiyata çok daha iyi ürünler alabilirsiniz.  0.589729\n",
              "19                                                                                                                                                      Eh işte idare eder,çok beklentiye girmeyin.  0.019579"
            ]
          },
          "metadata": {},
          "execution_count": 112
        }
      ]
    },
    {
      "cell_type": "markdown",
      "source": [
        "* 9. ve 18. satirda yanlis tahminleme yapmis."
      ],
      "metadata": {
        "id": "iHSp5KALBiIg"
      }
    }
  ],
  "metadata": {
    "kernelspec": {
      "display_name": "Python 3",
      "language": "python",
      "name": "python3"
    },
    "language_info": {
      "codemirror_mode": {
        "name": "ipython",
        "version": 3
      },
      "file_extension": ".py",
      "mimetype": "text/x-python",
      "name": "python",
      "nbconvert_exporter": "python",
      "pygments_lexer": "ipython3",
      "version": "3.7.9"
    },
    "colab": {
      "name": "Hepsiburada Sentiment Analysis.ipynb",
      "provenance": [],
      "collapsed_sections": [],
      "toc_visible": true,
      "include_colab_link": true
    }
  },
  "nbformat": 4,
  "nbformat_minor": 0
}