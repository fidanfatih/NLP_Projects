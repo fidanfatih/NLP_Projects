{
  "cells": [
    {
      "cell_type": "markdown",
      "metadata": {
        "id": "view-in-github",
        "colab_type": "text"
      },
      "source": [
        "<a href=\"https://colab.research.google.com/github/fidanfatih/NLP_Projects/blob/main/Introduction_to_Word_Embedding_(word2vec%2C_Glove).ipynb\" target=\"_parent\"><img src=\"https://colab.research.google.com/assets/colab-badge.svg\" alt=\"Open In Colab\"/></a>"
      ]
    },
    {
      "cell_type": "markdown",
      "metadata": {
        "id": "wseBFlNg4dVP"
      },
      "source": [
        "# **NLP Word Embedding (word2vec, Glove)**"
      ]
    },
    {
      "cell_type": "code",
      "source": [
        "from google.colab import drive\n",
        "drive.mount('/content/drive')"
      ],
      "metadata": {
        "colab": {
          "base_uri": "https://localhost:8080/"
        },
        "id": "KfCeXHBj5juJ",
        "outputId": "670df1ce-d629-4ac0-e543-9a78ab7fcab7"
      },
      "execution_count": 4,
      "outputs": [
        {
          "output_type": "stream",
          "name": "stdout",
          "text": [
            "Mounted at /content/drive\n"
          ]
        }
      ]
    },
    {
      "cell_type": "markdown",
      "metadata": {
        "id": "GsNzOB8g4dVV"
      },
      "source": [
        "## Word2Vec"
      ]
    },
    {
      "cell_type": "markdown",
      "source": [
        "Word2Vec , kelimeleri vektör uzayında ifade etmeye çalışan unsupervised (no labels) ve tahmin temelli(prediction-based) bir modeldir . Google araştırmacı Tomas Mikolov ve ekibi tarafından 2013 yılında icat edilmiştir. 2 çeşit alt algoritmasi vardır: \n",
        "* `CBOW(Continous Bag of Words)`: Pencere boyutu merkezinde OLMAYAN kelimeler girdi olarak alınıp, merkezinde OLAN kelimeler çıktı olarak tahmin edilmeye çalışılmaktadır.\n",
        "* `Skip-Gram`: Pencere boyutu merkezinde OLAN kelimeler girdi olarak alınıp, merkezinde OLMAYAN kelimeler çıktı olarak tahmin edilmeye çalışılmaktadır\n",
        "\n",
        "2 yöntem de genel olarak birbirine benzemektedir."
      ],
      "metadata": {
        "id": "ZuUpxG4g_GCt"
      }
    },
    {
      "cell_type": "code",
      "execution_count": null,
      "metadata": {
        "id": "CIl3E7bN4dVX"
      },
      "outputs": [],
      "source": [
        "# !pip install gensim\n",
        "# !pip install --upgrade pip"
      ]
    },
    {
      "cell_type": "code",
      "execution_count": 33,
      "metadata": {
        "id": "GKbJKtrz4dVb"
      },
      "outputs": [],
      "source": [
        "import numpy as np\n",
        "from gensim.models import Word2Vec\n",
        "from sklearn.manifold import TSNE\n",
        "import matplotlib.pyplot as plt"
      ]
    },
    {
      "cell_type": "code",
      "execution_count": 6,
      "metadata": {
        "id": "4puEaHfd4dVd"
      },
      "outputs": [],
      "source": [
        "text = open(\"/content/drive/MyDrive/Colab Notebooks/NLP/hurriyet.txt\", \"r\", encoding=\"utf8\")\n",
        "text = text.read()\n",
        "list_sent = text.split(\"\\n\")\n",
        "\n",
        "corpus = []\n",
        "\n",
        "for sent in list_sent:\n",
        "    corpus.append(sent.split())\n",
        "# Corpus taki cümleleri split ile ayırarak liste halinde corpus listesine ekliyoruz."
      ]
    },
    {
      "cell_type": "code",
      "execution_count": 7,
      "metadata": {
        "colab": {
          "base_uri": "https://localhost:8080/"
        },
        "id": "ixnG75fB4dVf",
        "outputId": "2bda8085-e2f3-4bc4-df23-a745baa3e494"
      },
      "outputs": [
        {
          "output_type": "stream",
          "name": "stdout",
          "text": [
            "[['iran', 'devlet', 'televizyonu', 'ülkedeki', 'eyaletin', 'sinde', 'yapılan', 'reformcuları', 'protesto', 'amaçlı', 'yürüyüşlere', 'milyonlarca', 'kişinin', 'katıldığını', 'bildirdi'], ['gösterilerde', 'fitnecilere', 'ölüm', 'münafıklara', 'ölüm', 'abd', 'ye', 'ölüm', 'ingiltere', 'ye', 'ölüm', 'sloganları', 'atıldı'], ['dini', 'lider', 'ali', 'hamaney', 've', 'cumhurbaşkanı', 'mahmud', 'ahmedinejad', 'ı', 'destekleyen', 'iranlılar', 'son', 'olaylarda', 'yeğeni', 'öldürülen', 'mir', 'hüseyin', 'musevi', 'başta', 'olmak', 'üzere', 'muhalefet', 'liderlerini', 'kınadılar'], ['musevi', 'ye', 'ölüm', 've', 'idam', 'idam', 'sloganları', 'duyuldu'], ['muhalefet', 'liderleri', 'kaçtı', 'mı', 'aşure', 'günü', 'yaşanan', 'çatışmalarda', 'devlet', 'kaynaklarına', 'göre', 'u', 'terörist', 'olmak', 'üzere', 'kişi', 'ölmüştü']]\n"
          ]
        }
      ],
      "source": [
        "print(corpus[:5])\n",
        "# İlk beş cümleye bakıyoruz."
      ]
    },
    {
      "cell_type": "code",
      "execution_count": 8,
      "metadata": {
        "id": "8FrTiWpo4dVh"
      },
      "outputs": [],
      "source": [
        "model = Word2Vec(corpus, size = 100, window =5, min_count=5, sg=1)"
      ]
    },
    {
      "cell_type": "markdown",
      "source": [
        "* `size = 100` ile 100 lük vectorler oluşturuyoruz.\n",
        "* `windows = 5`; Genellikle bu deger 5 veya 10 verilir. kelimeyi o kelimenin sağında ve solundaki beş kelime kalıbı ile öğren demektir. Örnek: 'iran', 'devlet', 'televizyonu', 'ülkedeki', 'eyaletin','sinde' burada İran kelimesini ele alırsak sağındaki beş kelime ile kullanımını değerlendiriyor, bu değerlendirmeyi bütün corpus taki (Iran birçok cümlede geçiyor) kullanımlarına bakarak bu kelimere olasılık değeri atıyor. \n",
        "* `min_count=5`;  kelime corpus ta 5 den az kullanılmıs ise onu öğrenme demek.\n",
        "* `sg=1`; Egitim sg=1 ise Skip-Gram ile sg=0 ise CBOW ile yapilir. Skip-Gram da hedef kelimeyi çıkararak sağında ve solundaki birer kelime ile bulmaya çalışıyor. (ben .... geldim (hedef ... = eve)). Bu modele kelimenin farklı anlamlarını öğrenmesini sağlır. CBOW ise hedef kelimeye bakarin etrafindaki kelimeleri bulmaya calisir.\n",
        "* Skip-Gram kucuk corpusta daha iyi sonuc verirken CBOW buyuk corpusta daha basarilidir ve CBOW daha hizlidir. Word2Vec default olarak CBOW ile calisir.\n",
        "* Word2Vec kelime kalıplarını (isim tamlaması, sıfat tamlaması, deyim vb.) öğrenirken yukarıdaki parametreleri kullanarak hedef bir kelimenin, o kelimeden sonra veya önce gelen kelimelerle kullanılma olasılıklarına göre öğreniyor ve tahminlemeyi ona göre yapıyor. Yani model ifade kaliplarini ogreniyor diyebiliriz."
      ],
      "metadata": {
        "id": "LtIKuor7C635"
      }
    },
    {
      "cell_type": "code",
      "execution_count": 10,
      "metadata": {
        "colab": {
          "base_uri": "https://localhost:8080/"
        },
        "id": "lOyhg7E84dVj",
        "outputId": "305e447b-9f53-4931-d362-7f66a408b79d"
      },
      "outputs": [
        {
          "output_type": "execute_result",
          "data": {
            "text/plain": [
              "[('italya', 0.7943147420883179),\n",
              " ('finlandiya', 0.7619591951370239),\n",
              " ('polonya', 0.757586658000946),\n",
              " ('letonya', 0.7516543865203857),\n",
              " ('hollanda', 0.7477139830589294),\n",
              " ('liechtenstein', 0.7428504824638367),\n",
              " ('danimarka', 0.7410189509391785),\n",
              " ('slovakya', 0.7402825355529785),\n",
              " ('estonya', 0.7368957996368408),\n",
              " ('slovenya', 0.7278348207473755)]"
            ]
          },
          "metadata": {},
          "execution_count": 10
        }
      ],
      "source": [
        "model.wv.most_similar(\"ispanya\")\n",
        "# benzer veya birlikte kullanılan kelimeleri kontrol ediyoruz."
      ]
    },
    {
      "cell_type": "code",
      "execution_count": 11,
      "metadata": {
        "colab": {
          "base_uri": "https://localhost:8080/"
        },
        "id": "dzutyyuw4dVl",
        "outputId": "5f6daead-b27c-4617-bf50-03ab0dddbda5"
      },
      "outputs": [
        {
          "output_type": "execute_result",
          "data": {
            "text/plain": [
              "[('marmara', 0.8974204659461975),\n",
              " ('gemisine', 0.6754869222640991),\n",
              " ('baskınıyla', 0.6549950242042542),\n",
              " ('baskınına', 0.6377859115600586),\n",
              " ('saldırısındaki', 0.6169396638870239),\n",
              " ('baskınının', 0.616042971611023),\n",
              " ('filo', 0.6135371923446655),\n",
              " ('dökme', 0.5945149660110474),\n",
              " ('gemisindeki', 0.5899563431739807),\n",
              " ('filosundaki', 0.5843017101287842)]"
            ]
          },
          "metadata": {},
          "execution_count": 11
        }
      ],
      "source": [
        "model.wv.most_similar(\"mavi\")\n",
        "# benzer veya birlikte kullanılan kelimeleri kontrol ediyoruz."
      ]
    },
    {
      "cell_type": "code",
      "execution_count": 12,
      "metadata": {
        "colab": {
          "base_uri": "https://localhost:8080/"
        },
        "id": "xP4lc2BK4dVm",
        "outputId": "36b2beff-9e58-4391-b747-4973ea478266"
      },
      "outputs": [
        {
          "output_type": "execute_result",
          "data": {
            "text/plain": [
              "[('perşembe', 0.9096705317497253),\n",
              " ('salı', 0.9094191193580627),\n",
              " ('cumartesi', 0.8987491726875305),\n",
              " ('pazartesi', 0.8966941833496094),\n",
              " ('cuma', 0.8893900513648987),\n",
              " ('günü', 0.8734487891197205),\n",
              " ('sabahı', 0.832861065864563),\n",
              " ('pazar', 0.8253582715988159),\n",
              " ('akşamı', 0.8212131261825562),\n",
              " ('gecesi', 0.7670620679855347)]"
            ]
          },
          "metadata": {},
          "execution_count": 12
        }
      ],
      "source": [
        "model.wv.most_similar(\"çarşamba\")\n",
        "# benzer veya birlikte kullanılan kelimeleri kontrol ediyoruz."
      ]
    },
    {
      "cell_type": "code",
      "source": [
        "model.wv.most_similar(\"youtube\")"
      ],
      "metadata": {
        "colab": {
          "base_uri": "https://localhost:8080/"
        },
        "id": "NlPZFVCwNTQ7",
        "outputId": "1b57d643-1914-4832-cbe7-577357b0cf2d"
      },
      "execution_count": 20,
      "outputs": [
        {
          "output_type": "execute_result",
          "data": {
            "text/plain": [
              "[('twitter', 0.7761465907096863),\n",
              " ('facebook', 0.7443143129348755),\n",
              " ('paylaşım', 0.7223296165466309),\n",
              " ('whatsapp', 0.7063097357749939),\n",
              " ('video', 0.6959530711174011),\n",
              " ('twıtter', 0.6926785707473755),\n",
              " ('internete', 0.6840433478355408),\n",
              " ('internetteki', 0.6772555112838745),\n",
              " ('sitelerini', 0.6699416637420654),\n",
              " ('sitelerine', 0.668175995349884)]"
            ]
          },
          "metadata": {},
          "execution_count": 20
        }
      ]
    },
    {
      "cell_type": "code",
      "source": [
        "model.wv.most_similar(\"londra\")"
      ],
      "metadata": {
        "colab": {
          "base_uri": "https://localhost:8080/"
        },
        "id": "eb5nCl4yfDO3",
        "outputId": "55e27621-92ac-4ff6-8d43-50fbac75fa24"
      },
      "execution_count": 25,
      "outputs": [
        {
          "output_type": "execute_result",
          "data": {
            "text/plain": [
              "[('manchester', 0.7307987213134766),\n",
              " ('birmingham', 0.7305963635444641),\n",
              " ('westminster', 0.6998683214187622),\n",
              " ('glasgow', 0.6987245082855225),\n",
              " ('ottawa', 0.6970545053482056),\n",
              " ('woolwich', 0.6946176290512085),\n",
              " ('edinburgh', 0.6936650276184082),\n",
              " ('philadelphia', 0.686632513999939),\n",
              " ('heathrow', 0.6856327056884766),\n",
              " ('wandsworth', 0.681573748588562)]"
            ]
          },
          "metadata": {},
          "execution_count": 25
        }
      ]
    },
    {
      "cell_type": "code",
      "source": [
        "model.wv.most_similar(positive=['türkiye', 'mit'], negative=['hukuk'], topn=1)"
      ],
      "metadata": {
        "colab": {
          "base_uri": "https://localhost:8080/"
        },
        "id": "PfszxaAyfYm9",
        "outputId": "6afdbf27-6cfc-474c-d51a-9e03133b4f7e"
      },
      "execution_count": 98,
      "outputs": [
        {
          "output_type": "execute_result",
          "data": {
            "text/plain": [
              "[('ankara', 0.5438752174377441)]"
            ]
          },
          "metadata": {},
          "execution_count": 98
        }
      ]
    },
    {
      "cell_type": "code",
      "execution_count": 40,
      "metadata": {
        "colab": {
          "base_uri": "https://localhost:8080/"
        },
        "id": "OxVPkScV4dVn",
        "outputId": "f1807ce7-1f41-49f1-d561-6dc77cba0b89"
      },
      "outputs": [
        {
          "output_type": "execute_result",
          "data": {
            "text/plain": [
              "[('üniversite', 0.5990570187568665)]"
            ]
          },
          "metadata": {},
          "execution_count": 40
        }
      ],
      "source": [
        "model.wv.most_similar(positive=['öğrenci', 'okul'], negative=['öğretmen'], topn=1)"
      ]
    },
    {
      "cell_type": "code",
      "execution_count": null,
      "metadata": {
        "colab": {
          "base_uri": "https://localhost:8080/"
        },
        "id": "sreeVC7Y4dVo",
        "outputId": "dcce26f2-e327-4b78-c719-c86265df48e5"
      },
      "outputs": [
        {
          "output_type": "execute_result",
          "data": {
            "text/plain": [
              "[('washington', 0.714200496673584)]"
            ]
          },
          "metadata": {},
          "execution_count": 14
        }
      ],
      "source": [
        "model.wv.most_similar(positive=['moskova', 'ankara'], negative=['rusya'], topn=1)"
      ]
    },
    {
      "cell_type": "code",
      "source": [
        "model.wv.most_similar(positive=['zulüm', 'işkence'], negative=['hukuk'], topn=1)"
      ],
      "metadata": {
        "colab": {
          "base_uri": "https://localhost:8080/"
        },
        "id": "UYiAHCL0Nxei",
        "outputId": "5a0c11e5-6ec7-4700-ab4b-756030a1f1cc"
      },
      "execution_count": 54,
      "outputs": [
        {
          "output_type": "execute_result",
          "data": {
            "text/plain": [
              "[('katliamlar', 0.6476186513900757)]"
            ]
          },
          "metadata": {},
          "execution_count": 54
        }
      ]
    },
    {
      "cell_type": "code",
      "source": [
        "def closestwords_tsneplot(model, word):\n",
        "    word_vectors = np.empty((0,100))\n",
        "    word_labels = [word]\n",
        "    close_words = model.wv.most_similar(word)\n",
        "    word_vectors = np.append(word_vectors, np.array([model.wv[word]]), axis = 0)\n",
        "    \n",
        "    for w, _ in close_words:\n",
        "        word_labels.append(w)\n",
        "        word_vectors = np.append(word_vectors, np.array([model.wv[w]]), axis = 0)\n",
        "    tsne = TSNE(random_state = 0)\n",
        "    Y = tsne.fit_transform(word_vectors)\n",
        "    x_coords = Y[:,0]\n",
        "    y_coords = Y[:,1]\n",
        "    plt.scatter(x_coords, y_coords)\n",
        "    \n",
        "    for label, x, y in zip(word_labels, x_coords, y_coords):\n",
        "        plt.annotate(label, xy = (x,y), xytext = (5, -2), textcoords = \"offset points\")\n",
        "    \n",
        "    plt.show()"
      ],
      "metadata": {
        "id": "LIqbXQ-0d1W4"
      },
      "execution_count": 34,
      "outputs": []
    },
    {
      "cell_type": "code",
      "source": [
        "closestwords_tsneplot(model, \"londra\");"
      ],
      "metadata": {
        "colab": {
          "base_uri": "https://localhost:8080/",
          "height": 334
        },
        "id": "Dmm9xB2Bf27L",
        "outputId": "1c790abe-34a3-4563-e867-01031aa8dd34"
      },
      "execution_count": 36,
      "outputs": [
        {
          "output_type": "stream",
          "name": "stderr",
          "text": [
            "/usr/local/lib/python3.7/dist-packages/sklearn/manifold/_t_sne.py:783: FutureWarning: The default initialization in TSNE will change from 'random' to 'pca' in 1.2.\n",
            "  FutureWarning,\n",
            "/usr/local/lib/python3.7/dist-packages/sklearn/manifold/_t_sne.py:793: FutureWarning: The default learning rate in TSNE will change from 200.0 to 'auto' in 1.2.\n",
            "  FutureWarning,\n"
          ]
        },
        {
          "output_type": "display_data",
          "data": {
            "image/png": "[encoded data removed]",
            "text/plain": [
              "<Figure size 432x288 with 1 Axes>"
            ]
          },
          "metadata": {
            "needs_background": "light"
          }
        }
      ]
    },
    {
      "cell_type": "code",
      "source": [
        "model.save(\"word2vec\")"
      ],
      "metadata": {
        "id": "V_enox2gOC6Z"
      },
      "execution_count": 99,
      "outputs": []
    },
    {
      "cell_type": "code",
      "source": [
        "model = Word2Vec.load(\"word2vec\")"
      ],
      "metadata": {
        "id": "ivejrr6rOCwu"
      },
      "execution_count": 101,
      "outputs": []
    },
    {
      "cell_type": "markdown",
      "metadata": {
        "id": "9p1RgZTa4dVp"
      },
      "source": [
        "## Glove"
      ]
    },
    {
      "cell_type": "markdown",
      "source": [
        "* Standfor Uni.nin 2014 te gelistirdigi bir model. 400k kelime 6B token ile editilmistir.\n",
        "* Yanyana kullanilan butun kelimeleri once sayiyor, Mesela 'Deep'-'Learning' yanyana kac defa kullanilmis bunun gibi bilgileri toplayip istatistiki bilgi olusturup onunla kelime vektorlerini olusturuyor. \n",
        "* Word2vec e gore daha hizlidir.\n",
        "* Download glove.6B.zip\n",
        "http://nlp.stanford.edu/data/glove.6B.zip\n"
      ],
      "metadata": {
        "id": "4dlO-iqtMMKn"
      }
    },
    {
      "cell_type": "code",
      "source": [
        "from gensim.scripts.glove2word2vec import glove2word2vec\n",
        "from gensim.models import KeyedVectors\n",
        "# glove2word2vec un Word2Vec ten farkı vektör olasılıklarını sürekli güncelliyor."
      ],
      "metadata": {
        "id": "XA9V3EmSYxQ-"
      },
      "execution_count": 102,
      "outputs": []
    },
    {
      "cell_type": "code",
      "execution_count": 103,
      "metadata": {
        "colab": {
          "base_uri": "https://localhost:8080/"
        },
        "id": "3kGj0JCH4dVq",
        "outputId": "673131e1-bca9-470a-e035-6b315084e551"
      },
      "outputs": [
        {
          "output_type": "execute_result",
          "data": {
            "text/plain": [
              "(400000, 100)"
            ]
          },
          "metadata": {},
          "execution_count": 103
        }
      ],
      "source": [
        "glove_model = \"/content/drive/MyDrive/Glove/glove.6B.100d.txt\"\n",
        "word2vec = \"glove.6B.100d.word2vec\"\n",
        "glove2word2vec(glove_model, word2vec)"
      ]
    },
    {
      "cell_type": "code",
      "execution_count": 104,
      "metadata": {
        "id": "-1QBbGPt4dVr"
      },
      "outputs": [],
      "source": [
        "model2 = KeyedVectors.load_word2vec_format(word2vec)"
      ]
    },
    {
      "cell_type": "code",
      "execution_count": 105,
      "metadata": {
        "colab": {
          "base_uri": "https://localhost:8080/"
        },
        "id": "xw3m6t1g4dVs",
        "outputId": "3972203a-24f4-4912-e420-31c5da15edf4"
      },
      "outputs": [
        {
          "output_type": "execute_result",
          "data": {
            "text/plain": [
              "[('red', 0.8435065746307373),\n",
              " ('black', 0.8065882921218872),\n",
              " ('pink', 0.786806046962738),\n",
              " ('green', 0.7868044376373291),\n",
              " ('purple', 0.7847141623497009),\n",
              " ('yellow', 0.7777267694473267),\n",
              " ('gray', 0.7732225060462952),\n",
              " ('bright', 0.7431131601333618),\n",
              " ('white', 0.7365070581436157),\n",
              " ('dark', 0.7170193195343018)]"
            ]
          },
          "metadata": {},
          "execution_count": 105
        }
      ],
      "source": [
        "model2.most_similar(\"blue\")"
      ]
    },
    {
      "cell_type": "code",
      "execution_count": null,
      "metadata": {
        "colab": {
          "base_uri": "https://localhost:8080/"
        },
        "id": "B2sieeLT4dVs",
        "outputId": "6b97334a-de60-41af-c48b-0bc4d38ef3cb"
      },
      "outputs": [
        {
          "output_type": "execute_result",
          "data": {
            "text/plain": [
              "[('physician', 0.7673239707946777),\n",
              " ('nurse', 0.75215083360672),\n",
              " ('dr.', 0.7175193428993225),\n",
              " ('doctors', 0.7080885171890259),\n",
              " ('patient', 0.7074184417724609),\n",
              " ('medical', 0.6995993256568909),\n",
              " ('surgeon', 0.6905338764190674),\n",
              " ('hospital', 0.690092921257019),\n",
              " ('psychiatrist', 0.658909797668457),\n",
              " ('dentist', 0.6447421312332153)]"
            ]
          },
          "metadata": {},
          "execution_count": 53
        }
      ],
      "source": [
        "model2.most_similar(\"doctor\")"
      ]
    },
    {
      "cell_type": "code",
      "execution_count": null,
      "metadata": {
        "colab": {
          "base_uri": "https://localhost:8080/"
        },
        "id": "ItH1QeQ34dVt",
        "outputId": "aa4a8bba-f01f-4235-f75b-43ce8e18570e"
      },
      "outputs": [
        {
          "output_type": "execute_result",
          "data": {
            "text/plain": [
              "[('mother', 0.9024620056152344)]"
            ]
          },
          "metadata": {},
          "execution_count": 54
        }
      ],
      "source": [
        "model2.most_similar(positive=[\"woman\", \"father\"], negative=[\"man\"], topn=1)\n",
        "# \"father\" \"man\" ise \"woman\" \"mother\" olur."
      ]
    },
    {
      "cell_type": "code",
      "execution_count": null,
      "metadata": {
        "colab": {
          "base_uri": "https://localhost:8080/"
        },
        "id": "NfK3p5Zk4dVu",
        "outputId": "c3fa367e-9d5f-44e0-879b-466a40ad56ab"
      },
      "outputs": [
        {
          "output_type": "execute_result",
          "data": {
            "text/plain": [
              "[('daughter', 0.8917792439460754)]"
            ]
          },
          "metadata": {},
          "execution_count": 55
        }
      ],
      "source": [
        "model2.most_similar(positive=[\"woman\", \"brother\"], negative=[\"man\"], topn=1)"
      ]
    },
    {
      "cell_type": "code",
      "execution_count": null,
      "metadata": {
        "colab": {
          "base_uri": "https://localhost:8080/"
        },
        "id": "NS9aCmqW4dVu",
        "outputId": "134aa750-49e6-43a3-8c00-7717964994bf"
      },
      "outputs": [
        {
          "output_type": "execute_result",
          "data": {
            "text/plain": [
              "[('turkey', 0.8147119283676147)]"
            ]
          },
          "metadata": {},
          "execution_count": 56
        }
      ],
      "source": [
        "model2.most_similar(positive=[\"ankara\", \"germany\"], negative=[\"berlin\"], topn=1)\n",
        "# germany den berlin i çıkrırsak, ankara turkey verir."
      ]
    },
    {
      "cell_type": "code",
      "execution_count": null,
      "metadata": {
        "colab": {
          "base_uri": "https://localhost:8080/"
        },
        "id": "LUE5zSrW4dVv",
        "outputId": "c1eba725-1e5d-4d59-9513-477734e0784a"
      },
      "outputs": [
        {
          "output_type": "execute_result",
          "data": {
            "text/plain": [
              "[('teacher', 0.7610154151916504)]"
            ]
          },
          "metadata": {},
          "execution_count": 57
        }
      ],
      "source": [
        "model2.most_similar(positive=[\"teach\", \"doctor\"], negative=[\"treat\"], topn=1)"
      ]
    },
    {
      "cell_type": "code",
      "source": [
        "model2.most_similar(positive=[\"king\", \"state\"], negative=[\"man\"], topn=1)"
      ],
      "metadata": {
        "colab": {
          "base_uri": "https://localhost:8080/"
        },
        "id": "oCHh9aaFlW5S",
        "outputId": "d82f595a-60b3-40f9-ed4f-e14155ac496b"
      },
      "execution_count": 115,
      "outputs": [
        {
          "output_type": "execute_result",
          "data": {
            "text/plain": [
              "[('kingdom', 0.5932905673980713)]"
            ]
          },
          "metadata": {},
          "execution_count": 115
        }
      ]
    },
    {
      "cell_type": "code",
      "source": [
        "model2.most_similar(positive=[\"ankara\", \"hitler\"], negative=[\"berlin\"], topn=1)"
      ],
      "metadata": {
        "colab": {
          "base_uri": "https://localhost:8080/"
        },
        "id": "1Pn87gw8ky1V",
        "outputId": "322bc64f-ab3d-4a8e-edd8-e843f3559eea"
      },
      "execution_count": 114,
      "outputs": [
        {
          "output_type": "execute_result",
          "data": {
            "text/plain": [
              "[('erdogan', 0.580045223236084)]"
            ]
          },
          "metadata": {},
          "execution_count": 114
        }
      ]
    }
  ],
  "metadata": {
    "interpreter": {
      "hash": "43a9cd95aa030499ef934e4da31e07dde54f3fc3a1fd0cc4aeef7f16459ee2ac"
    },
    "kernelspec": {
      "display_name": "Python 3.9.0 64-bit (system)",
      "name": "python3"
    },
    "language_info": {
      "codemirror_mode": {
        "name": "ipython",
        "version": 3
      },
      "file_extension": ".py",
      "mimetype": "text/x-python",
      "name": "python",
      "nbconvert_exporter": "python",
      "pygments_lexer": "ipython3",
      "version": "3.9.0"
    },
    "colab": {
      "name": "Introduction to Word Embedding (word2vec, Glove).ipynb",
      "provenance": [],
      "collapsed_sections": [],
      "toc_visible": true,
      "include_colab_link": true
    }
  },
  "nbformat": 4,
  "nbformat_minor": 0
}